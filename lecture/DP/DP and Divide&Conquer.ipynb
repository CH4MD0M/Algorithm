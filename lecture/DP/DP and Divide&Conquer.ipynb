{
 "cells": [
  {
   "cell_type": "markdown",
   "id": "4d4f33e1",
   "metadata": {},
   "source": [
    "# 동적 계획법(Dynamic Programming)\n",
    "- 입력 크기가 작은 부분 문제들을 해결한 후, 해당 부분 문제의 해를 활용해서 보다 큰 크기의 부분 문제를 해결, 최종저긍로 전체 문제를 해결하는 알고리즘이다.\n",
    "- **상향식 접근법**으로, 가장 최하위 해답을 구한 후, 이를 저장하고 해당 결과값을 이용해서 상위 문제를 풀어가는 방식이다.\n",
    "- 문제를 나눌 떄, 부분 문제는 중복되어 재활용 된다.\n",
    "- Memoization 기법을 사용한다.\n",
    "### Memoization(메모이제이션)\n",
    "프로그램 실행 시 이전에 계산한 값을 저장하여 다시 계산하지 않도록 하여 전체 실행 속도를 빠르게 하는 기술"
   ]
  },
  {
   "cell_type": "markdown",
   "id": "1166105a",
   "metadata": {},
   "source": [
    "# 분할 정복(Divide and Conquer)\n",
    "- 문제를 나눌 수 없을 때까지 나누어서 각각을 풀면서 다시 합병하여 문제의 답을 얻는 알고리즘이다.\n",
    "- **하향식 접근법**으로, 상위의 해답을 구하기 위해 아래로 내려가면서 하위 문제의 해답을 구하는 방식이다.\n",
    "- 문제를 나눌 때, 부분 문제는 서로 중복되지 않는다."
   ]
  },
  {
   "cell_type": "markdown",
   "id": "febf9850",
   "metadata": {},
   "source": [
    "---"
   ]
  },
  {
   "cell_type": "markdown",
   "id": "58afc0a7",
   "metadata": {},
   "source": [
    "## 공통점과 차이점\n",
    "### 공통점\n",
    "- 문제를 가장 작은 단위로 분할한다.\n",
    "\n",
    "### 차이점\n",
    "**동적 계획법**\n",
    "- 부분 문제는 중복되어 상위 문제 해결 시 재활용.\n",
    "- Memoization 기법 사용.\n",
    "\n",
    "**분할 정복**\n",
    "- 부분 문제는 서로 중복되지 않음."
   ]
  },
  {
   "cell_type": "markdown",
   "id": "9fb796ba",
   "metadata": {},
   "source": [
    "---"
   ]
  },
  {
   "cell_type": "markdown",
   "id": "ddd4db16",
   "metadata": {},
   "source": [
    "## 동적계획법 알고리즘 이해\n",
    "### 피보나치 수열\n",
    "<p width=\"100%\"><img src=\"https://www.fun-coding.org/00_Images/Fibonacci.png\" width=\"400\" align=\"left\"/></p>\n",
    "(출처:fun-coding, https://www.fun-coding.org/Chapter14-dp_divide.html)\n",
    "\n"
   ]
  },
  {
   "cell_type": "markdown",
   "id": "94375384",
   "metadata": {},
   "source": [
    "### 재귀 활용"
   ]
  },
  {
   "cell_type": "code",
   "execution_count": 1,
   "id": "2e8c5225",
   "metadata": {},
   "outputs": [],
   "source": [
    "def fibonacci(num):\n",
    "    if num <= 1:\n",
    "        return num\n",
    "    return fibonacci(num - 1) + fibonacci(num - 2)\n",
    "    "
   ]
  },
  {
   "cell_type": "code",
   "execution_count": 2,
   "id": "5582f6aa",
   "metadata": {},
   "outputs": [
    {
     "data": {
      "text/plain": [
       "3"
      ]
     },
     "execution_count": 2,
     "metadata": {},
     "output_type": "execute_result"
    }
   ],
   "source": [
    "fibonacci(4)"
   ]
  },
  {
   "cell_type": "markdown",
   "id": "60f9a467",
   "metadata": {},
   "source": [
    "### DP 활용"
   ]
  },
  {
   "cell_type": "code",
   "execution_count": 3,
   "id": "e650ee54",
   "metadata": {},
   "outputs": [],
   "source": [
    "def fibonacci_dp(num):\n",
    "    cache = [0 for i in range(num + 1)]\n",
    "    cache[0] = 0\n",
    "    cache[1] = 1\n",
    "    \n",
    "    for i in range(2, num + 1):\n",
    "        cache[i] = cache[i - 1] + cache[i - 2]\n",
    "    return cache[num]"
   ]
  },
  {
   "cell_type": "code",
   "execution_count": 4,
   "id": "c0c54cb3",
   "metadata": {},
   "outputs": [
    {
     "data": {
      "text/plain": [
       "3"
      ]
     },
     "execution_count": 4,
     "metadata": {},
     "output_type": "execute_result"
    }
   ],
   "source": [
    "fibonacci_dp(4)"
   ]
  }
 ],
 "metadata": {
  "kernelspec": {
   "display_name": "Python 3 (ipykernel)",
   "language": "python",
   "name": "python3"
  },
  "language_info": {
   "codemirror_mode": {
    "name": "ipython",
    "version": 3
   },
   "file_extension": ".py",
   "mimetype": "text/x-python",
   "name": "python",
   "nbconvert_exporter": "python",
   "pygments_lexer": "ipython3",
   "version": "3.7.0"
  }
 },
 "nbformat": 4,
 "nbformat_minor": 5
}
