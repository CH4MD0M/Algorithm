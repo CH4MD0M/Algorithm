{
 "cells": [
  {
   "cell_type": "markdown",
   "id": "56e9d604",
   "metadata": {},
   "source": [
    "# 너비 우선 탐색(Breadth-First Search, BFS)\n",
    "대표적인 그래프 탐색 알고리즘이다.</br>\n",
    "정점들과 같은 레벨에 있는 노드(형제 노드)들을 먼저 탐색하는 방법이다.\n",
    "\n",
    "<img src=\"https://www.fun-coding.org/00_Images/BFSDFS.png\" width=700>\n",
    "(출처:fun-coding, https://www.fun-coding.org/Chapter18-bfs-live.html)\n",
    "\n",
    "### BFS 방식\n",
    "A - B - C - D - G - H - I - E - F - J "
   ]
  },
  {
   "cell_type": "markdown",
   "id": "e62ba4f0",
   "metadata": {},
   "source": [
    "---"
   ]
  },
  {
   "cell_type": "markdown",
   "id": "906a157b",
   "metadata": {},
   "source": [
    "## 파이썬으로 그래프를 표현하는 방법\n",
    "<img src=\"https://www.fun-coding.org/00_Images/bfsgraph.png\" width=700>\n",
    "(출처:fun-coding, https://www.fun-coding.org/Chapter18-bfs-live.html)"
   ]
  },
  {
   "cell_type": "code",
   "execution_count": 1,
   "id": "dcd31da5",
   "metadata": {},
   "outputs": [],
   "source": [
    "graph_matrix = [\n",
    "    [],\n",
    "    [2, 3, 8],\n",
    "    [1, 7],\n",
    "    [1, 4, 5],\n",
    "    [3, 5],\n",
    "    [3, 4],\n",
    "    [7],\n",
    "    [2, 6, 8],\n",
    "    [1, 7]\n",
    "];"
   ]
  },
  {
   "cell_type": "code",
   "execution_count": 2,
   "id": "f27a937f",
   "metadata": {},
   "outputs": [],
   "source": [
    "graph_dict = {\n",
    "    1: [2, 3, 8],\n",
    "    2: [1, 7],\n",
    "    3: [1, 4, 5],\n",
    "    4: [3, 5],\n",
    "    5: [3, 4],\n",
    "    6: [7],\n",
    "    7: [2, 6, 8],\n",
    "    8: [1, 7]\n",
    "}"
   ]
  },
  {
   "cell_type": "markdown",
   "id": "2e1dd76b",
   "metadata": {},
   "source": [
    "---"
   ]
  },
  {
   "cell_type": "markdown",
   "id": "6db5b5c7",
   "metadata": {},
   "source": [
    "## BFS 알고리즘 구현\n",
    "BFS 구현 에서는 선입선출 방식인 큐 자료구조를 이용한다.</br>\n",
    "인접한 노드를 반복적으로 큐에 넣도록 알고리즘을 작성하면 자연스럽게 가까운 노드부터 탐색을 진행하게 된다.\n",
    "\n",
    "### 알고리즘 동작 방식\n",
    "1. 탐색 시작 노드를 큐에 삽입핟고 방문 처리를 한다.\n",
    "2. 큐에서 노드를 꺼내 해당 노드의 인접 노드 중에서 방문하지 않은 노드를 모두 큐에 삽입하고 방문 처리를 한다.\n",
    "3. 2번의 과정을 더 이상 수핼할 수 없을 때가지 반복한다."
   ]
  },
  {
   "cell_type": "markdown",
   "id": "a1fde8f9",
   "metadata": {},
   "source": [
    "### 2차원 배열 입력"
   ]
  },
  {
   "cell_type": "code",
   "execution_count": 3,
   "id": "e78a2775",
   "metadata": {},
   "outputs": [],
   "source": [
    "from collections import deque\n",
    "\n",
    "def bfs(graph, start, visited):\n",
    "    visited[start] = True\n",
    "    queue = deque([start])\n",
    "    \n",
    "    while queue:\n",
    "        v = queue.popleft()\n",
    "        print(v, end=' ')\n",
    "        for i in graph[v]:\n",
    "            if not visited[i]:\n",
    "                queue.append(i)\n",
    "                visited[i] = True"
   ]
  },
  {
   "cell_type": "code",
   "execution_count": 4,
   "id": "f7da608b",
   "metadata": {},
   "outputs": [
    {
     "name": "stdout",
     "output_type": "stream",
     "text": [
      "1 2 3 8 7 4 5 6 "
     ]
    }
   ],
   "source": [
    "visited = [False] * 9 # N = len(graph)+1\n",
    "bfs(graph_matrix, 1, visited)"
   ]
  },
  {
   "cell_type": "markdown",
   "id": "3e19e0e0",
   "metadata": {},
   "source": [
    "### 딕셔너리 입력"
   ]
  },
  {
   "cell_type": "code",
   "execution_count": 5,
   "id": "ee8ec75f",
   "metadata": {},
   "outputs": [],
   "source": [
    "from collections import deque\n",
    "\n",
    "def bfs(graph, start):\n",
    "    visited = []\n",
    "    queue = deque([start])\n",
    "    \n",
    "    while queue:\n",
    "        node = queue.popleft()\n",
    "        if node not in visited:\n",
    "            visited.append(node)\n",
    "            queue.extend(graph[node])\n",
    "    \n",
    "    return visited"
   ]
  },
  {
   "cell_type": "code",
   "execution_count": 6,
   "id": "c5cd478b",
   "metadata": {},
   "outputs": [
    {
     "name": "stdout",
     "output_type": "stream",
     "text": [
      "1 2 3 8 7 4 5 6\n"
     ]
    }
   ],
   "source": [
    "print(*bfs(graph_dict, 1))"
   ]
  },
  {
   "cell_type": "markdown",
   "id": "a4eda753",
   "metadata": {},
   "source": [
    "---"
   ]
  },
  {
   "cell_type": "markdown",
   "id": "e390e18e",
   "metadata": {},
   "source": [
    "## 시간 복잡도\n",
    "**인접리스트로 구현했을 때** BFS의 시간 복잡도는 **노드$(N)$** 개수 + **간선$(E)$** 개수로 $O(N+E)$이다."
   ]
  }
 ],
 "metadata": {
  "kernelspec": {
   "display_name": "Python 3 (ipykernel)",
   "language": "python",
   "name": "python3"
  },
  "language_info": {
   "codemirror_mode": {
    "name": "ipython",
    "version": 3
   },
   "file_extension": ".py",
   "mimetype": "text/x-python",
   "name": "python",
   "nbconvert_exporter": "python",
   "pygments_lexer": "ipython3",
   "version": "3.7.0"
  }
 },
 "nbformat": 4,
 "nbformat_minor": 5
}
