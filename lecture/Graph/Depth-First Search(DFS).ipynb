{
 "cells": [
  {
   "cell_type": "markdown",
   "id": "a95b99ac",
   "metadata": {},
   "source": [
    "# 깊이 우선 탐색 (Depth-First Search, DFS)\n",
    "그래프에서 깊은 부분을 우선적으로 탐색하는 알고리즘이다.\n",
    "\n",
    "<img src=\"https://www.fun-coding.org/00_Images/BFSDFS.png\" width=700>\n",
    "\n",
    "### DFS 방식\n",
    "A - B - D - E - F - C - G - H - I - J "
   ]
  },
  {
   "cell_type": "markdown",
   "id": "f368abe6",
   "metadata": {},
   "source": [
    "---"
   ]
  },
  {
   "cell_type": "markdown",
   "id": "efb29abc",
   "metadata": {},
   "source": [
    "## 파이썬으로 그래프를 표현하는 방법\n",
    "<img src=\"https://www.fun-coding.org/00_Images/bfsgraph.png\" width=700>\n",
    "(출처:fun-coding, https://www.fun-coding.org/Chapter18-dfs-live.html)"
   ]
  },
  {
   "cell_type": "code",
   "execution_count": 1,
   "id": "6ead6db1",
   "metadata": {},
   "outputs": [],
   "source": [
    "graph_matrix = [\n",
    "    [],\n",
    "    [2, 3, 8],\n",
    "    [1, 7],\n",
    "    [1, 4, 5],\n",
    "    [3, 5],\n",
    "    [3, 4],\n",
    "    [7],\n",
    "    [2, 6, 8],\n",
    "    [1, 7]\n",
    "];"
   ]
  },
  {
   "cell_type": "code",
   "execution_count": 2,
   "id": "5ffb013d",
   "metadata": {},
   "outputs": [],
   "source": [
    "graph_dict = {\n",
    "    1: [2, 3, 8],\n",
    "    2: [1, 7],\n",
    "    3: [1, 4, 5],\n",
    "    4: [3, 5],\n",
    "    5: [3, 4],\n",
    "    6: [7],\n",
    "    7: [2, 6, 8],\n",
    "    8: [1, 7]\n",
    "}"
   ]
  },
  {
   "cell_type": "markdown",
   "id": "30c8fde0",
   "metadata": {},
   "source": [
    "---"
   ]
  },
  {
   "cell_type": "markdown",
   "id": "6d4b7f76",
   "metadata": {},
   "source": [
    "## DFS 알고리즘 구현\n",
    "- **인접 행렬(Adjacency Matrix):** 2차원 배열로 그래프의 연결 관계를 표현하는 방식\n",
    "- **인접 리스트(Adjacency List):** 리스트로 그래프의 연결 관계를 표현하는 방식\n",
    "\n",
    "다른 언어의 배열을 파이썬에서는 리스트 자료형으로 표현할 수 있으므로 파이썬은 인접 행렬을 리스트로 구현한다.\n",
    "\n",
    "인접 행렬 방식은 모든 관계를 저장하므로 노드 개수가 많아질수록 메모리가 불필요하게 낭비된다.</br>\n",
    "반면에 인접 리스트 방식은 연결된 정보만을 저장하기 때문에 메모리를 효율적으로 사용한다. 하지만, 두 노드가 연결되어 있는지에 대한 정보를 얻는 속도가 느리다(인접 리스트 방식에서는 연결된 데이터를 하나씩 확인해야 하기 때문이다).\n",
    "\n",
    "> **특정한 노드와 연결된 모든 인접 노드를 순회해야 하는 경우**, 인접 리스트 방식이 인접 행렬 방식에 비해 메모리 공간의 낭비가 적다.\n",
    "\n",
    "### 알고리즘 동작 과정\n",
    "1. 탐색 시작 노드를 스택에 삽입하고 방문 처리를 한다.\n",
    "2. 스택의 최상단 노드에 방문하지 않은 인접 노드가 있으면 그 인접 노드를 스택에 넣고 방문 처리를 한다. 방문하지 않은 인접 노드가 없으면 스택에서 최상단 노드를 꺼낸다.\n",
    "3. 2번 과정을 더 이상 수행할 수 없을 때까지 반복한다.\n",
    "\n",
    "> DFS의 기능을 생각하면 순서와 상관없이 처리해도 되지만, 번호가 낮은 순서부터 처리하도록 명시하는 경우가 종종 있다. 따라서 관행적으로 번호가 낮은 순서부터 처리하도록 구현하는 편이다.\n",
    "\n"
   ]
  },
  {
   "cell_type": "markdown",
   "id": "9e0ed327",
   "metadata": {},
   "source": [
    "### 2차원 배열 입력"
   ]
  },
  {
   "cell_type": "code",
   "execution_count": 3,
   "id": "6d5aad42",
   "metadata": {},
   "outputs": [],
   "source": [
    "def dfs(graph, v, visited):\n",
    "    visited[v] = True\n",
    "    print(v, end=' ')\n",
    "    for i in graph[v]:\n",
    "        if not visited[i]:\n",
    "            dfs(graph, i, visited)"
   ]
  },
  {
   "cell_type": "code",
   "execution_count": 4,
   "id": "effc3b31",
   "metadata": {},
   "outputs": [
    {
     "name": "stdout",
     "output_type": "stream",
     "text": [
      "1 2 7 6 8 3 4 5 "
     ]
    }
   ],
   "source": [
    "visited = [False] * 9 # N = len(graph)+1\n",
    "dfs(graph_matrix, 1, visited)"
   ]
  },
  {
   "cell_type": "markdown",
   "id": "7bac66f4",
   "metadata": {},
   "source": [
    "### 딕셔너리 입력"
   ]
  },
  {
   "cell_type": "code",
   "execution_count": 5,
   "id": "ee53b764",
   "metadata": {},
   "outputs": [],
   "source": [
    "def dfs(graph, v, visited=[]):\n",
    "    visited.append(v)\n",
    "\n",
    "    for node in graph[v]:\n",
    "        if node not in visited:\n",
    "            dfs(graph, node, visited)\n",
    "\n",
    "    return visited"
   ]
  },
  {
   "cell_type": "code",
   "execution_count": 6,
   "id": "bf7a6fa6",
   "metadata": {},
   "outputs": [
    {
     "name": "stdout",
     "output_type": "stream",
     "text": [
      "1 2 7 6 8 3 4 5\n"
     ]
    }
   ],
   "source": [
    "print(*dfs(graph_dict, 1))"
   ]
  },
  {
   "cell_type": "markdown",
   "id": "8a46710d",
   "metadata": {},
   "source": [
    "---"
   ]
  },
  {
   "cell_type": "markdown",
   "id": "f3ad42fb",
   "metadata": {},
   "source": [
    "## 시간 복잡도\n",
    "**인접리스트로 구현했을 때** DFS의 시간 복잡도는 **노드$(N)$** 개수 + **간선$(E)$** 개수로 $O(N+E)$이다."
   ]
  }
 ],
 "metadata": {
  "kernelspec": {
   "display_name": "Python 3 (ipykernel)",
   "language": "python",
   "name": "python3"
  },
  "language_info": {
   "codemirror_mode": {
    "name": "ipython",
    "version": 3
   },
   "file_extension": ".py",
   "mimetype": "text/x-python",
   "name": "python",
   "nbconvert_exporter": "python",
   "pygments_lexer": "ipython3",
   "version": "3.7.0"
  }
 },
 "nbformat": 4,
 "nbformat_minor": 5
}
