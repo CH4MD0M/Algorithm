{
 "cells": [
  {
   "cell_type": "markdown",
   "id": "4d535f24",
   "metadata": {},
   "source": [
    "# 그래프(Graph)\n",
    "그래프는 실제 세계의 현상이나 사물을 정점(Vertext) 또는 노드(Node)와 간선(Edge)로 표현한 것이다.\n"
   ]
  },
  {
   "cell_type": "markdown",
   "id": "012d59a1",
   "metadata": {},
   "source": [
    "## 그래프 관련 용어\n",
    "\n",
    "### 노드\n",
    "- 위치를 말한다. 정점(Vertex) 라고도 한다.\n",
    "\n",
    "### 간선\n",
    "- 위치 간의 관계를 표시한 선으로 노드를 연결한 선이다(link 또는 branch라고도 한다).\n",
    "\n",
    "### 인접 정점\n",
    "- 간선으로 직접 연결된 정점(또는 노드).\n",
    "\n",
    "### 참고 용어\n",
    "- 정점의 차수 (Degree): 무방향 그래프에서 하나의 정점에 인접한 정점의 수\n",
    "- 진입 차수 (In-Degree): 방향 그래프에서 외부에서 오는 간선의 수\n",
    "- 진출 차수 (Out-Degree): 방향 그래프에서 외부로 향하는 간선의 수\n",
    "- 경로 길이 (Path Length): 경로를 구성하기 위해 사용된 간선의 수\n",
    "- 단순 경로 (Simple Path): 처음 정점과 끝 정점을 제외하고 중복된 정점이 없는 경로\n",
    "- 사이클 (Cycle): 단순 경로의 시작 정점과 종료 정점이 동일한 경우\n"
   ]
  },
  {
   "cell_type": "markdown",
   "id": "91018cff",
   "metadata": {},
   "source": [
    "---"
   ]
  },
  {
   "cell_type": "markdown",
   "id": "ba68de26",
   "metadata": {},
   "source": [
    "## 그래프 종류"
   ]
  },
  {
   "cell_type": "markdown",
   "id": "aea9d142",
   "metadata": {},
   "source": [
    "### 무방향 그래프와 방향 그래프\n",
    "**무방향 그래프(Undirected Graph)**\n",
    "간선에 방향이 없는 그래프</br>\n",
    "간선을 통해, 노드는 양방향으로 갈 수 있다.</br>\n",
    "보통 노드 A, B가 연결되어 있을 경우, (A,B)또는 (B,A)로 표기한다.\n",
    "\n",
    "<img src=\"https://www.fun-coding.org/00_Images/simplepath.png\" width=200>\n",
    "(출처:fun-coding,https://www.fun-coding.org/Chapter17-graph-live.html)\n",
    "\n",
    "**방향 그래프(Directed Graph)**</br>\n",
    "간선에 방향이 있는 그래프.</br>\n",
    "보통 A->B로 간선이 연결되어 있는 경우 <A,B>로 표기한다.\n",
    "\n",
    "<img src=\"https://www.fun-coding.org/00_Images/undirectedgraph.png\" width=300>\n",
    "(출처:fun-coding,https://www.fun-coding.org/Chapter17-graph-live.html)\n",
    "\n",
    "---\n",
    "\n",
    "### 가중 그래프(Weighted Graph) 또는 가중 네트워크(Weighted Network)\n",
    "간선에 비용 또는 가중치가 할당된 그래프\n",
    "\n",
    "<img src=\"https://www.fun-coding.org/00_Images/weightedgraph.png\" width=300>\n",
    "(출처:fun-coding,https://www.fun-coding.org/Chapter17-graph-live.html)\n",
    "\n",
    "---\n",
    "\n",
    "### 연결 그래프와 비연결 그래프\n",
    "**연결 그래프(Connected Graph)**</br>\n",
    "무방향 그래프에 있는 모든 노드에 대해 항상 경로가 존재하는 그래프\n",
    "\n",
    "**비연결 그래프(Disconnected Graph)**</br>\n",
    "무방향 그래프에서 특정 노드에 대한 경로가 존재하지 않는 그래프\n",
    "\n",
    "<img src=\"https://www.fun-coding.org/00_Images/disconnectedgraph.png\" width=300>\n",
    "(출처:fun-coding,https://www.fun-coding.org/Chapter17-graph-live.html)\n",
    "\n",
    "---\n",
    "\n",
    "### 순환 그래프와 비순환 그래프\n",
    "**순환 그래프(Cycle)**</br>\n",
    "단순 경로의 시작 정점과 종료 정점이 동일한 그래프.\n",
    "- **단순 경로(Simple Path):** 경로 중에서 반복되는 정점이 없는 경우\n",
    "\n",
    "**비순환 그래프(ACyclic Graph)**\n",
    "싸이클이 없는 그래프.\n",
    "<img src=\"https://www.fun-coding.org/00_Images/acyclicgraph.png\" width=300>\n",
    "(출처:fun-coding,https://www.fun-coding.org/Chapter17-graph-live.html)\n",
    "\n",
    "---\n",
    "\n",
    "### 완전 그래프\n",
    "그래프에 속해 있는 모든 정점이 서로 연결되어 있는 그래프</br>\n",
    "무방향 완전 그래프</br>\n",
    "정점 수가 $n$이면 간선의 수는 <font size=\"4rem\">$\\frac{n*(n-1)}{2} $</font>\n",
    "<img src=\"https://www.fun-coding.org/00_Images/completegraph.png\" width=300>\n",
    "(출처:fun-coding,https://www.fun-coding.org/Chapter17-graph-live.html)\n",
    "\n"
   ]
  },
  {
   "cell_type": "markdown",
   "id": "48c7862d",
   "metadata": {},
   "source": [
    "---"
   ]
  },
  {
   "cell_type": "markdown",
   "id": "eec56c40",
   "metadata": {},
   "source": [
    "## 그래프와 트리의 차이\n",
    "</br>\n",
    "\n",
    "<table align=\"left\">\n",
    "  <tr>\n",
    "    <th></th>\n",
    "    <th style=\"text-align:center\">그래프</th>\n",
    "    <th style=\"text-align:center\">트리</th>\n",
    "  </tr>\n",
    "  <tr>\n",
    "    <td style=\"text-align:left\">정의</td>\n",
    "    <td style=\"text-align:left\">노드와 노드를 연결하는 간선으로 표현되는 자료 구조</td>\n",
    "    <td style=\"text-align:left\">그래프의 한 종류, 방향성이 있는 비순환 그래프</td>\n",
    "  </tr>\n",
    "  <tr>\n",
    "    <td style=\"text-align:left\">방향성</td>\n",
    "    <td style=\"text-align:left\">방향 그래프, 무방향 그래프 둘다 존재함</td>\n",
    "    <td style=\"text-align:left\">방향 그래프만 존재함</td>\n",
    "  </tr>\n",
    "  <tr>\n",
    "    <td style=\"text-align:left\">사이클</td>\n",
    "    <td style=\"text-align:left\">사이클 가능함, 순환 및 비순환 그래프 모두 존재함</td>\n",
    "    <td style=\"text-align:left\">비순환 그래프로 사이클이 존재하지 않음</td>\n",
    "  </tr>\n",
    "  <tr>\n",
    "    <td style=\"text-align:left\">루트 노드</td>\n",
    "    <td style=\"text-align:left\">루트 노드 존재하지 않음</td>\n",
    "    <td style=\"text-align:left\">루트 노드 존재함</td>\n",
    "  </tr>\n",
    "  <tr>\n",
    "    <td style=\"text-align:left\">부모/자식 관계</td>\n",
    "    <td style=\"text-align:left\">부모 자식 개념이 존재하지 않음</td>\n",
    "    <td style=\"text-align:left\">부모 자식 관계가 존재함</td>\n",
    "  </tr>\n",
    "</table>\n"
   ]
  }
 ],
 "metadata": {
  "kernelspec": {
   "display_name": "Python 3 (ipykernel)",
   "language": "python",
   "name": "python3"
  },
  "language_info": {
   "codemirror_mode": {
    "name": "ipython",
    "version": 3
   },
   "file_extension": ".py",
   "mimetype": "text/x-python",
   "name": "python",
   "nbconvert_exporter": "python",
   "pygments_lexer": "ipython3",
   "version": "3.7.0"
  }
 },
 "nbformat": 4,
 "nbformat_minor": 5
}
