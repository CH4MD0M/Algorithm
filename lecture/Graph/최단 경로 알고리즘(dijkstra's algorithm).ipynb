{
 "cells": [
  {
   "cell_type": "markdown",
   "id": "af813c2f",
   "metadata": {},
   "source": [
    "# 최단 경로 알고리즘\n",
    "**최단 경로(Shortest Path)** 알고리즘은 가장 짧은 경로를 찾는 알고리즘이다.</br>\n",
    "가중치 그래프에서 간선의 **가중치 합이 최소가 되도록 하는 경로를 찾는 것**이 목적이다."
   ]
  },
  {
   "cell_type": "markdown",
   "id": "aa28b2ee",
   "metadata": {},
   "source": [
    "## 최단 경로 문제 종류\n",
    "1. **단일-도착 최단 경로 문제:**  모든 꼭짓점들로부터 출발하여 그래프 내의 한 단일 꼭짓점 v로 도착하는 가장 짧은 경로를 찾는 문제이다.\n",
    "\n",
    "2. **단일-출발 최단 경로 문제:** 단일 꼭짓점 v에서 출발하여 그래프 내의 모든 다른 꼭짓점들에 도착하는 가장 짧은 경로를 찾는 문제이다.\n",
    "\n",
    "3. **전체 쌍 최단 경로:** 그래프 내의 모든 꼭짓점 쌍들 사이의 최단 경로를 찾는 문제이다."
   ]
  },
  {
   "cell_type": "markdown",
   "id": "c1b56b99",
   "metadata": {},
   "source": [
    "---"
   ]
  },
  {
   "cell_type": "markdown",
   "id": "2af5da1d",
   "metadata": {},
   "source": [
    "## 최단 경로 알고리즘 - 다익스트라 알고리즘\n",
    "그래프에서 여러 개의 노드가 있을 때, 특정한 노드에서 출발하여 다른 노드로 가는 각각의 최단 경로를 구해주는 알고리즘이다.</br>\n",
    "하나의 정점에서 다른 모든 정점 간의 각각 가장 짧은 거리를 구하는 문제이다."
   ]
  },
  {
   "cell_type": "markdown",
   "id": "e1e42fca",
   "metadata": {},
   "source": [
    "---"
   ]
  },
  {
   "cell_type": "markdown",
   "id": "82fa5a79",
   "metadata": {},
   "source": [
    "## 다익스트라 알고리즘 로직\n",
    "첫 정점을 기준으로 연결되어 있는 정점들을 추가해 가며 최단 거리를 갱신하는 기법.</br>\n",
    "\n",
    "너비우선탐색(BFS)와 유사하다.\n",
    "- 첫 정점부터 각 노드 간의 거리를 저장하는 배열을 만든 후, 첫 정점의 인접 노드 간의 거리부터 먼저 계산하면서 첫 정점부터 해당 노드 간의 가장 짧은 거리를 해당 배열에 업데이트 한다.\n",
    "\n",
    "### 우선 순위 큐를 활용한 다익스트라 알고리즘\n",
    "우선순위 큐는 Min-Heap 방식을 활용해서 현재 가장 짧은 거리를 가진 노드 정보를 먼저 꺼내게 된다.\n",
    "\n",
    "**1) 첫 정점을 기준으로 배열을 선언하여 첫 정점에서 각 정점까지의 거리를 저장한다.**\n",
    "- 처음에는 첫 정점의 거리는 0(자기 자신), 나머지는 무한대(inf)로 저장한다.\n",
    "- 우선순위 넣는다.\n",
    "\n",
    "**2) 우선순위 큐에서 노드를 꺼낸다.**\n",
    "- 처음에는 첫 정점만 저장되어 있으므로 첫 정점을 꺼낸다.\n",
    "- 첫 정점에 인접한 노드들에 대한 현재 배열에 저장되어 있는 거리와 첫 정점에서 각 노드로 가는 거리를 비교한다.\n",
    "- 배열에 저장되어 있는 값이 더 클 경우, 배열에 해당 노드의 거리를 업데이트 한다.\n",
    "- 해당 노드의 거리가 업데이트된 경우, 그 노드를 우선순위 큐에 넣는다.\n",
    "- 만약 배열에 기록된 현재까지 발견된 가장 짧은 거리보다, 더 긴 거리를 가진 (노드, 거리)의 경우에는 해당 노드와 인접한 노드간의 거리 계산을 하지 않는다.\n",
    "\n",
    "**3) 2번의 과정을 (우선순위 큐에서 꺼낼 노드가 없을 때까지)반복한다.**"
   ]
  },
  {
   "cell_type": "markdown",
   "id": "b541b67d",
   "metadata": {},
   "source": [
    "---"
   ]
  },
  {
   "cell_type": "markdown",
   "id": "be82e03b",
   "metadata": {},
   "source": [
    "## 다익스트라 알고리즘 구현 파이썬 구현"
   ]
  },
  {
   "cell_type": "markdown",
   "id": "f0a75558",
   "metadata": {},
   "source": [
    "### heapq 라이브러리 활용을 통해 우선순위 큐 사용하기\n",
    "- 데이터의 0번 인덱스를 우선순위로 인지한다.\n",
    "- Pop 메서드를 사용하면 우선순위가 낮은(값이 작은) 원소부터 리턴한다."
   ]
  },
  {
   "cell_type": "code",
   "execution_count": 1,
   "id": "81fc0b56",
   "metadata": {},
   "outputs": [
    {
     "name": "stdout",
     "output_type": "stream",
     "text": [
      "[[1, 'C'], [5, 'B'], [2, 'A'], [7, 'D']]\n",
      "[1, 'C']\n",
      "[2, 'A']\n",
      "[5, 'B']\n",
      "[7, 'D']\n"
     ]
    }
   ],
   "source": [
    "import heapq\n",
    "\n",
    "queue=[]\n",
    "\n",
    "heapq.heappush(queue,[2,'A'])\n",
    "heapq.heappush(queue,[5,'B'])\n",
    "heapq.heappush(queue,[1,'C'])\n",
    "heapq.heappush(queue,[7,'D'])\n",
    "print(queue)\n",
    "\n",
    "for i in range(len(queue)):\n",
    "    print(heapq.heappop(queue))"
   ]
  },
  {
   "cell_type": "markdown",
   "id": "9bf04af9",
   "metadata": {},
   "source": [
    "## 다익스트라 알고리즘 구현"
   ]
  },
  {
   "cell_type": "code",
   "execution_count": 2,
   "id": "c7e5b99d",
   "metadata": {},
   "outputs": [
    {
     "name": "stdout",
     "output_type": "stream",
     "text": [
      "6 11\n",
      "1\n",
      "1 2 2\n",
      "1 3 5\n",
      "1 4 1\n",
      "2 3 3\n",
      "2 4 2\n",
      "3 2 3\n",
      "3 6 5\n",
      "4 3 3\n",
      "4 5 1\n",
      "5 3 1\n",
      "5 6 2\n",
      "0\n",
      "2\n",
      "3\n",
      "1\n",
      "2\n",
      "4\n"
     ]
    }
   ],
   "source": [
    "import heapq\n",
    "INF=int(1e9)\n",
    "\n",
    "n,m=map(int, input().split())\n",
    "start=int(input())\n",
    "\n",
    "graph=[[] for _ in range(n+1)]\n",
    "distance=[INF]*(n+1)\n",
    "\n",
    "for _ in range(m):\n",
    "    a,b,c=map(int,input().split())\n",
    "    graph[a].append((b,c))\n",
    "\n",
    "def dijkstra(start):\n",
    "    queue=[]\n",
    "    heapq.heappush(queue,(0,start))\n",
    "    distance[start]=0\n",
    "    \n",
    "    while queue:\n",
    "        dist,now=heapq.heappop(queue)\n",
    "\n",
    "        if distance[now]<dist:\n",
    "            continue\n",
    "        \n",
    "        for node in graph[now]:\n",
    "            cost=dist+node[1]\n",
    "            if cost<distance[node[0]]:\n",
    "                distance[node[0]]=cost\n",
    "                heapq.heappush(queue,(cost,node[0]))\n",
    "                \n",
    "dijkstra(start)\n",
    "\n",
    "for i in range(1,n+1):\n",
    "    if distance[i]==INF:\n",
    "        print(\"INFINITY\")\n",
    "    else:\n",
    "        print(distance[i])"
   ]
  },
  {
   "cell_type": "markdown",
   "id": "0639f2e7",
   "metadata": {},
   "source": [
    "---"
   ]
  },
  {
   "cell_type": "markdown",
   "id": "5557fc15",
   "metadata": {},
   "source": [
    "## 시간 복잡도\n",
    "다익스트라 알고리즘은 크게 두가지 과정을 거친다.\n",
    "1. 각 노드마다 인접한 간선들을 모두 검사하는 과정\n",
    "2. 우선순위 큐에 노드/거리 정보를 넣고(push) 삭제(pop)하는 과정.\n",
    "\n",
    "### 각 과정별 시간 복잡도\n",
    "**과정1**\n",
    "- 각 노드는 최대 한 번씩 방문하므로, 그래프의 모든 간선은 최대 한 번씩 검사한다.\n",
    "- 각 노드마다 인접한 간선들을 모두 검사하는 과정은 $O(E)$ 시간이 걸린다. **E**는 간선(Edge)의 약자.\n",
    "\n",
    "**과정2**\n",
    "- 배열에 저장되어 있는 최단거리 값보다 항상 작아서 배열을 계속 갱신하고 우선순위 큐에 넣는 경우가 worst case이다.\n",
    "- 각 간선마다 최대 한 번 일어날 수 있으므로, 최대 $O(E)$의 시간이 걸리고, $O(E)$개의 노드/거리 정보에 대해 우선순위 큐를 유지하는 작업은 $O(log{E})$ 가 걸린다.\n",
    "\n",
    "### 총 시간 복잡도\n",
    "**과정1 + 과정2 =**  $O(E)$ + $O(log{E})$ = $ O(E + Elog{E}) = O(Elog{E}) $"
   ]
  },
  {
   "cell_type": "markdown",
   "id": "fcf9bbdc",
   "metadata": {},
   "source": [
    "---\n",
    "### 참고: 힙의 시간 복잡도\n",
    "depth(트리의 높이)를 h라고 표기한다면 n개의 노드를 가지는 heap에 데이터 삽입 또는 삭제시, 최악의 경우 root 노드에서 leaf 노드까지 비교해야 한다.\n",
    "\n",
    "$h=log2N$에 가까우므로, 시간 복잡도는 $O(logN)$이다."
   ]
  }
 ],
 "metadata": {
  "kernelspec": {
   "display_name": "Python 3 (ipykernel)",
   "language": "python",
   "name": "python3"
  },
  "language_info": {
   "codemirror_mode": {
    "name": "ipython",
    "version": 3
   },
   "file_extension": ".py",
   "mimetype": "text/x-python",
   "name": "python",
   "nbconvert_exporter": "python",
   "pygments_lexer": "ipython3",
   "version": "3.7.0"
  }
 },
 "nbformat": 4,
 "nbformat_minor": 5
}
