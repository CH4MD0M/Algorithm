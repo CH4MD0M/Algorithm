{
 "cells": [
  {
   "cell_type": "markdown",
   "id": "6b1de6d2",
   "metadata": {},
   "source": [
    "# 서로소 집합 자료구조(union-find)\n",
    "서로소 부분 집합들로 나누어진 원소들의 데이터를 처리하기 위한 자료구조이다.</br>\n",
    "서로소 집합 자료구조는 **union**과 **find** 2개의 연산으로 조작한다.</br>\n",
    "서로소 집합 자료구조는 union-find 자료구조라고 불리기도 한다.</br>\n",
    "\n",
    "### 서로소 집합(Disjoint Sets)\n",
    "수학에서 서로소 집합이란 공통 원사가 없는 두 집합을 의미한다.\n",
    "\n",
    "### union 연산\n",
    "2개의 원소가 포함된 집합을 하난의 집합으로 합치는 연산이다.</br>\n",
    "union 연산을 효과적으로 수행하기 위해 \"부모 테이블\"을 항상 가지고 있어야 한다. 루트 노드를 즉시 계산할 수 없고, 부모 테이블을 계속해서 확인하며 거슬러 올라야 하기 때문이다.\n",
    "\n",
    "### find 연산\n",
    "특정한 원소가 속한 집합이 어떤 집합인지 알려주는 연산이다.</br>\n",
    "서로소 집합 알고리즘으로 루트를 찾기 위해서는 재귀적으로 부모를 거슬러 올라가야 한다.\n"
   ]
  },
  {
   "cell_type": "code",
   "execution_count": 1,
   "id": "6f02d116",
   "metadata": {},
   "outputs": [
    {
     "name": "stdout",
     "output_type": "stream",
     "text": [
      "6 4\n",
      "1 4\n",
      "2 3\n",
      "2 4\n",
      "5 6\n",
      "각 원소가 속한 집합: 1 1 1 1 5 5 \n",
      "부모 테이블: 1 1 2 1 5 5 "
     ]
    }
   ],
   "source": [
    "def find(parent, node):\n",
    "    if parent[node] != node:\n",
    "        return find(parent, parent[node])\n",
    "    return node\n",
    "\n",
    "def union(parent, a, b):\n",
    "    a = find(parent, a)\n",
    "    b = find(parent, b)\n",
    "    if a < b:\n",
    "        parent[b] = a\n",
    "    else:\n",
    "        parent[a] = b\n",
    "\n",
    "# 노드의 개수와 간선의 개수 입력받기\n",
    "v, e = map(int, input().split())\n",
    "parent = [0] * (v + 1) # 부모 테이블 초기화\n",
    "\n",
    "# 부모 테이블 상에서, 부모를 자기 자신으로 초기화\n",
    "for i in range(1, v + 1):\n",
    "    parent[i] = i\n",
    "\n",
    "# Union 연산을 수행\n",
    "for i in range(e):\n",
    "    a, b = map(int, input().split())\n",
    "    union(parent, a, b)\n",
    "\n",
    "# 각 원소가 속한 집합 출력\n",
    "print('각 원소가 속한 집합: ', end='')\n",
    "for i in range(1, v + 1):\n",
    "    print(find(parent,i), end=' ')\n",
    "    \n",
    "print()\n",
    "\n",
    "print('부모 테이블: ',end='')\n",
    "for i in range(1, v + 1):\n",
    "    print(parent[i], end=' ')"
   ]
  },
  {
   "cell_type": "markdown",
   "id": "b5446e10",
   "metadata": {},
   "source": [
    "---"
   ]
  },
  {
   "cell_type": "markdown",
   "id": "d3d2afbb",
   "metadata": {},
   "source": [
    "## 경로 압축(Path Compression) 기법\n",
    "시간 복잡도를 개선시키는 방법으로, find 함수를 재귀적으로 호출한 뒤에 부모 테이블값을 갱신하는 기법이다.</br>\n",
    "경로 압축 기법으로 사용하면 find 함수를 호출한 이후에, 해당 노드의 루트 노드가 바로 부모 노드가 된다.\n",
    "\n",
    "```python\n",
    "def find(parent, node):\n",
    "    if parent[node] != node:\n",
    "        parent[node] = find(parent, parent[node])\n",
    "    return parent[node]\n",
    "```"
   ]
  },
  {
   "cell_type": "code",
   "execution_count": 2,
   "id": "1bd07f35",
   "metadata": {},
   "outputs": [
    {
     "name": "stdout",
     "output_type": "stream",
     "text": [
      "6 4\n",
      "1 4\n",
      "2 3\n",
      "2 4\n",
      "5 6\n",
      "각 원소가 속한 집합: 1 1 1 1 5 5 \n",
      "부모 테이블: 1 1 1 1 5 5 "
     ]
    }
   ],
   "source": [
    "def find(parent, node):\n",
    "    if parent[node] != node:\n",
    "        parent[node] = find(parent,parent[node])\n",
    "    return parent[node]\n",
    "\n",
    "def union(parent, a, b):\n",
    "    a = find(parent, a)\n",
    "    b = find(parent, b)\n",
    "    if a < b:\n",
    "        parent[b] = a\n",
    "    else:\n",
    "        parent[a] = b\n",
    "\n",
    "v, e = map(int, input().split())\n",
    "parent = [0] * (v + 1)\n",
    "\n",
    "for i in range(1, v + 1):\n",
    "    parent[i] = i\n",
    "\n",
    "for i in range(e):\n",
    "    a, b = map(int, input().split())\n",
    "    union(parent,a,b)\n",
    "    \n",
    "print('각 원소가 속한 집합: ', end='')\n",
    "for i in range(1, v + 1):\n",
    "    print(find(parent, i), end=' ')\n",
    "    \n",
    "print()\n",
    "\n",
    "print('부모 테이블: ', end='')\n",
    "for i in range(1, v + 1):\n",
    "    print(parent[i], end=' ')"
   ]
  },
  {
   "cell_type": "markdown",
   "id": "aadcfba8",
   "metadata": {},
   "source": [
    "---"
   ]
  },
  {
   "cell_type": "markdown",
   "id": "7694d566",
   "metadata": {},
   "source": [
    "## 서로소 집합을 활용한 사이클 판별\n",
    "이 알고리즘은 간선에 방향성이 없는 무향 그래프에서만 적용 가능하다.\n",
    "1. 각 간선을 확인하며 두 노드의 루트 노드를 확인한다.\n",
    "    - 로트 노드가 서로 다르다면 두 노드에 대하여 union 연산을 수행한다.\n",
    "    - 로트 노드가 같다면 사이킁(Cycle)이 발생한 것이다.\n",
    "2. 그래프에 포함되어 있는 모든 간선에 대해 1번 과정을 반복한다."
   ]
  },
  {
   "cell_type": "code",
   "execution_count": 3,
   "id": "27994542",
   "metadata": {},
   "outputs": [
    {
     "name": "stdout",
     "output_type": "stream",
     "text": [
      "3 3\n",
      "1 2\n",
      "1 3\n",
      "2 3\n",
      "사이클이 발생했습니다.\n"
     ]
    }
   ],
   "source": [
    "# find 연산\n",
    "def find(parent, node):\n",
    "    if parent[node] != node:\n",
    "        parent[node] = find(parent, parent[node])\n",
    "    return parent[node]\n",
    "\n",
    "# union 연산\n",
    "def union(parent, a, b):\n",
    "    a = find(parent, a)\n",
    "    b = find(parent, b)\n",
    "    if a < b:\n",
    "        parent[b] = a\n",
    "    else:\n",
    "        parent[a] = b\n",
    "        \n",
    "# 노드와 간선의 개수 입력 받기        \n",
    "v, e = map(int, input().split())\n",
    "parent = [0] * (v + 1)\n",
    "\n",
    "# 부모를 자기 자신으로 초기화\n",
    "for i in range(1, v + 1):\n",
    "    parent[i] = i\n",
    "\n",
    "# 사이클 발생 여부\n",
    "cycle = False\n",
    "\n",
    "for i in range(e):\n",
    "    a, b = map(int, input().split())\n",
    "    if find(parent, a) == find(parent, b):\n",
    "        cycle = True\n",
    "        break\n",
    "    else:\n",
    "        union(parent, a, b)\n",
    "\n",
    "if cycle:\n",
    "    print('사이클이 발생했습니다.')\n",
    "else:\n",
    "    print('사이클이 발생하지 않았습니다.')"
   ]
  },
  {
   "cell_type": "markdown",
   "id": "015fac1e",
   "metadata": {},
   "source": [
    "---"
   ]
  },
  {
   "cell_type": "markdown",
   "id": "80644fcc",
   "metadata": {},
   "source": [
    "# 최소 신장 트리"
   ]
  },
  {
   "cell_type": "markdown",
   "id": "1b3f0d60",
   "metadata": {},
   "source": [
    "### 신장 트리(Spanning Tree)\n",
    "트리의 성립조건을 만족하는 부분 그래프이다.\n",
    "\n",
    "### 트리의 성립조건\n",
    "모든 노드가 포함되어 서로 연결되면서 사이클이 존재하지 않는다.\n",
    "\n",
    "<img src=\"https://www.fun-coding.org/00_Images/spanningtree.png\" width=\"700\">\n",
    "\n",
    "(출처: fun-coding, https://www.fun-coding.org/Chapter20-kruskal-live.html)"
   ]
  },
  {
   "cell_type": "markdown",
   "id": "e005b900",
   "metadata": {},
   "source": [
    "### 최소 신장 트리(Minimun Spanning Tree, MST)\n",
    "신장 트리 중에서 최소 비용으로 만들 수 있는 신장 츠리를 찾는 알고리즘이다.</br>\n",
    "가능한 Spanning Tree 중에서, 간선의 가중치 합이 최소인 Spanning Tree를 말한다.\n",
    "<img src=\"https://www.fun-coding.org/00_Images/mst.png\" width=500>\n",
    "\n",
    "(출처: fun-coding, https://www.fun-coding.org/Chapter20-kruskal-live.html)"
   ]
  },
  {
   "cell_type": "markdown",
   "id": "df6e06fe",
   "metadata": {},
   "source": [
    "---"
   ]
  },
  {
   "cell_type": "markdown",
   "id": "5bbddfa2",
   "metadata": {},
   "source": [
    "## 크루스칼 알고리즘(Kruskal's Algorithm)\n",
    "크루스칼 알고리즘을 사용하면 가장 적은 비용으로 모든 노드를 연결할 수 있는데,<br>\n",
    "크루스칼 알고리즘은 그리디 알고리즘으로 분류된다.\n",
    "\n",
    "1. 간선 데이터를 비용에 따라 **오름차순으로 정렬한다.**\n",
    "2. 간선을 하나씩 확인하면 현재의 간선이 **사이클을 발생시키는지 확인한다.**\n",
    "    - 사이클이 발생하는 경우 최소 신장 트리에 포함시키지 않는다.\n",
    "    - 사이클이 발생하지 않는 경우 최소 신장 트리에 포함시킨다.\n",
    "3. 모든 간선에 대하여 2번 과정을 반복한다.\n"
   ]
  },
  {
   "cell_type": "code",
   "execution_count": 4,
   "id": "d7ca8d05",
   "metadata": {},
   "outputs": [
    {
     "name": "stdout",
     "output_type": "stream",
     "text": [
      "7 9\n",
      "1 2 29\n",
      "1 5 75\n",
      "2 3 35\n",
      "2 6 34\n",
      "3 4 7\n",
      "4 6 23\n",
      "4 7 13\n",
      "5 6 53\n",
      "6 7 25\n",
      "[(7, 3, 4), (13, 4, 7), (23, 4, 6), (29, 1, 2), (34, 2, 6), (53, 5, 6)]\n",
      "159\n"
     ]
    }
   ],
   "source": [
    "def find(parent, node):\n",
    "    if parent[node] != node:\n",
    "        parent[node] = find(parent, parent[node])\n",
    "    return parent[node]\n",
    "\n",
    "def union(parent, a, b):\n",
    "    a = find(parent, a)\n",
    "    b = find(parent, b)\n",
    "    if a < b:\n",
    "        parent[b] = a\n",
    "    else:\n",
    "        parent[a] = b\n",
    "        \n",
    "v, e = map(int, input().split())\n",
    "parent = [0] * (v + 1)\n",
    "\n",
    "# 모든 간선을 담을 리스트와 최종 비용을 담을 변수\n",
    "edges = []\n",
    "result = 0\n",
    "mst = [] # 최소 신장 트리\n",
    "\n",
    "for i in range(1, v + 1):\n",
    "    parent[i] = i\n",
    "\n",
    "# 모든 간선에 대한 정보 입력받기\n",
    "for _ in range(e):\n",
    "    a, b, cost = map(int, input().split())\n",
    "    edges.append((cost, a, b))\n",
    "\n",
    "# 간선을 비용순으로 정렬\n",
    "edges.sort()\n",
    "\n",
    "for edge in edges:\n",
    "    cost, a, b = edge\n",
    "    if find(parent, a) != find(parent, b):\n",
    "        union(parent, a, b)\n",
    "        mst.append(edge)\n",
    "        result += cost\n",
    "        \n",
    "print(mst)\n",
    "print(result)"
   ]
  },
  {
   "cell_type": "markdown",
   "id": "4cafb6e6",
   "metadata": {},
   "source": [
    "---"
   ]
  },
  {
   "cell_type": "markdown",
   "id": "571d9cf8",
   "metadata": {},
   "source": [
    "## 크루스칼 알고리즘의 시간 복잡도\n",
    "크루스칼 알고리즘은 간선의 개수가 E개일 때, $O(ElogE)$의 시간 복잡도를 가진다.</br>\n",
    "왜냐하면 크루스칼 알고리즘에서 시간이 가장 오래 걸리는 부분이 간선을 정려하는 작업이며, E개의 데이터를 정렬했을 때의 시간 복잡도는 $O(ElogE)$이기 때문이다.</br>\n",
    "**서로소 집합 알고리즘의 시간 복잡도는 정렬 알고리즘의 시간 복잡도보다 작으므로 무시한다.**"
   ]
  }
 ],
 "metadata": {
  "kernelspec": {
   "display_name": "Python 3 (ipykernel)",
   "language": "python",
   "name": "python3"
  },
  "language_info": {
   "codemirror_mode": {
    "name": "ipython",
    "version": 3
   },
   "file_extension": ".py",
   "mimetype": "text/x-python",
   "name": "python",
   "nbconvert_exporter": "python",
   "pygments_lexer": "ipython3",
   "version": "3.7.0"
  }
 },
 "nbformat": 4,
 "nbformat_minor": 5
}
