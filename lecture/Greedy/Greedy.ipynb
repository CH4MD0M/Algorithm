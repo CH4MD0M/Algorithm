{
 "cells": [
  {
   "cell_type": "markdown",
   "id": "5fdafcab",
   "metadata": {},
   "source": [
    "# 탐욕 알고리즘(Greedy Algorithm)\n",
    " **매순간 최적이라고 생각되는 경우를 선택**하는 방식으로 진행해서, 최종적인 값을 구하는 알고리즘이다."
   ]
  },
  {
   "cell_type": "markdown",
   "id": "b161a91f",
   "metadata": {},
   "source": [
    "---"
   ]
  },
  {
   "cell_type": "markdown",
   "id": "638c3ad5",
   "metadata": {},
   "source": [
    "## 탐욕 알고리즘 예"
   ]
  },
  {
   "cell_type": "markdown",
   "id": "f8489b1d",
   "metadata": {},
   "source": [
    "### 문제1: 동전문제\n",
    "<font color=\"blue\">**지불해야 하는 값이 4720원 일 때 1원 50원 100원, 500원 동전으로 동전의 수가 가장 적게 지불하시오.**</font>\n",
    "- 가장 큰 동전부터 최대한 지불해야 하는 값을 채우는 방식으로 구현 가능\n",
    "- 탐욕 알고리즘으로 매순간 최적이라고 생각되는 경우를 선택하면 됨"
   ]
  },
  {
   "cell_type": "code",
   "execution_count": 2,
   "id": "3a34ff0b",
   "metadata": {},
   "outputs": [],
   "source": [
    "coin_list=[500,100,50,1]\n",
    "\n",
    "def min_coin_count(value, coin_list):\n",
    "    count=0\n",
    "    coin_list.sort(reverse=True)\n",
    "    for coin in coin_list:\n",
    "        count+=value//coin\n",
    "        value%=coin\n",
    "    return count"
   ]
  },
  {
   "cell_type": "code",
   "execution_count": 3,
   "id": "81e7f864",
   "metadata": {},
   "outputs": [
    {
     "data": {
      "text/plain": [
       "31"
      ]
     },
     "execution_count": 3,
     "metadata": {},
     "output_type": "execute_result"
    }
   ],
   "source": [
    "min_coin_count(4720,coin_list)"
   ]
  },
  {
   "cell_type": "markdown",
   "id": "1ac507be",
   "metadata": {},
   "source": [
    "---"
   ]
  },
  {
   "cell_type": "markdown",
   "id": "11dab4ba",
   "metadata": {},
   "source": [
    "### 문제2: 부분 배낭 문제(Fractiopnal Knapsack Problem)\n",
    "<font color=\"blue\">**무게 제한이 k인 배낭에 최대 가치를 가지도록 물건을 넣는 문제**</font>\n",
    "- 각 물건은 무게(w)와 가치(v)로 표현될 수 있음\n",
    "- 물건은 쪼갤 수 있으므로 물건의 일부분이 배낭에 넣어질 수 있음, 그래서 Fractional Knapsack Problem 으로 부름\n",
    "\n",
    "Fractional Knapsack Problem 의 반대로 물건을 쪼개서 넣을 수 없는 배낭 문제도 존재함 (0/1 Knapsack Problem 으로 부름)"
   ]
  },
  {
   "cell_type": "code",
   "execution_count": 4,
   "id": "ff5f91a8",
   "metadata": {},
   "outputs": [],
   "source": [
    "data_list=[(10,10),(15,12),(20,10),(25,8),(30,5)]"
   ]
  },
  {
   "cell_type": "code",
   "execution_count": 5,
   "id": "f0286a6b",
   "metadata": {},
   "outputs": [
    {
     "data": {
      "text/plain": [
       "[(10, 10), (15, 12), (20, 10), (25, 8), (30, 5)]"
      ]
     },
     "execution_count": 5,
     "metadata": {},
     "output_type": "execute_result"
    }
   ],
   "source": [
    "sorted(data_list, key=lambda x:x[1]/x[0],reverse=True)"
   ]
  },
  {
   "cell_type": "code",
   "execution_count": 6,
   "id": "2a100b9b",
   "metadata": {},
   "outputs": [],
   "source": [
    "def get_max_value(data_list,capacity):\n",
    "    data_list=sorted(data_list,key=lambda x:x[1]/x[0], reverse=True)\n",
    "    result=0\n",
    "    \n",
    "    for data in data_list:\n",
    "        if capacity-data[0]>=0:\n",
    "            capacity-=data[0]\n",
    "            result+=data[1]\n",
    "        else:\n",
    "            frac=capacity/data[0]\n",
    "            result+=data[1]*frac\n",
    "            break\n",
    "\n",
    "    return result"
   ]
  },
  {
   "cell_type": "code",
   "execution_count": 7,
   "id": "191a0660",
   "metadata": {},
   "outputs": [
    {
     "data": {
      "text/plain": [
       "24.5"
      ]
     },
     "execution_count": 7,
     "metadata": {},
     "output_type": "execute_result"
    }
   ],
   "source": [
    "get_max_value(data_list,30)"
   ]
  }
 ],
 "metadata": {
  "kernelspec": {
   "display_name": "Python 3 (ipykernel)",
   "language": "python",
   "name": "python3"
  },
  "language_info": {
   "codemirror_mode": {
    "name": "ipython",
    "version": 3
   },
   "file_extension": ".py",
   "mimetype": "text/x-python",
   "name": "python",
   "nbconvert_exporter": "python",
   "pygments_lexer": "ipython3",
   "version": "3.7.0"
  }
 },
 "nbformat": 4,
 "nbformat_minor": 5
}
