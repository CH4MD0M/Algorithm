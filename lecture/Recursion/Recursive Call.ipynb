{
 "cells": [
  {
   "cell_type": "markdown",
   "id": "bc8b3cf9",
   "metadata": {},
   "source": [
    "# 재귀 용법 (recursive call, 재귀 호출)\n",
    "재귀용법은 함수 안에서 동일한 함수를 호출하는 형태이다.</br>\n",
    "고급 정렬 알고리즘에서 재귀 용법을 많이 사용한다."
   ]
  },
  {
   "cell_type": "markdown",
   "id": "4047882c",
   "metadata": {},
   "source": [
    "## factorial 구현"
   ]
  },
  {
   "cell_type": "code",
   "execution_count": 1,
   "id": "f121ccd4",
   "metadata": {},
   "outputs": [],
   "source": [
    "def factorial(num):\n",
    "    if num>1:\n",
    "        return num*factorial(num-1)\n",
    "    else:\n",
    "        return num"
   ]
  },
  {
   "cell_type": "code",
   "execution_count": 2,
   "id": "93c9bad9",
   "metadata": {},
   "outputs": [
    {
     "name": "stdout",
     "output_type": "stream",
     "text": [
      "0\n",
      "1\n",
      "2\n",
      "6\n",
      "24\n",
      "120\n",
      "720\n",
      "5040\n",
      "40320\n",
      "362880\n"
     ]
    }
   ],
   "source": [
    "for num in range(10):\n",
    "    print(factorial(num))"
   ]
  },
  {
   "cell_type": "markdown",
   "id": "22838018",
   "metadata": {},
   "source": [
    "## 재귀 호출의 일반적인 형태"
   ]
  },
  {
   "cell_type": "code",
   "execution_count": null,
   "id": "3f9ee2fc",
   "metadata": {},
   "outputs": [],
   "source": [
    "# 일반적인 형태 1\n",
    "    if 입력 > 일정 값:\n",
    "        return factorial(입력 - 1)\n",
    "    else:\n",
    "        return 일정 값, 입력 값, 또는 특정 값"
   ]
  },
  {
   "cell_type": "code",
   "execution_count": null,
   "id": "0565c62a",
   "metadata": {},
   "outputs": [],
   "source": [
    "# 일반적인 형태 2\n",
    "def function(입력):\n",
    "    if 입력 <= 일정값:\n",
    "        return 일정값, 입력값, 또는 특정값\n",
    "    function(입력보다 작은 값)\n",
    "    return 결과값"
   ]
  },
  {
   "cell_type": "code",
   "execution_count": 3,
   "id": "00e198bd",
   "metadata": {},
   "outputs": [],
   "source": [
    "def factorial(num):\n",
    "    if num<=1:\n",
    "        return num\n",
    "    return num*factorial(num-1)"
   ]
  },
  {
   "cell_type": "code",
   "execution_count": 4,
   "id": "61dba4d2",
   "metadata": {},
   "outputs": [
    {
     "name": "stdout",
     "output_type": "stream",
     "text": [
      "0\n",
      "1\n",
      "2\n",
      "6\n",
      "24\n",
      "120\n",
      "720\n",
      "5040\n",
      "40320\n",
      "362880\n"
     ]
    }
   ],
   "source": [
    "for num in range(10):\n",
    "    print(factorial(num))"
   ]
  },
  {
   "cell_type": "markdown",
   "id": "bdc3f94f",
   "metadata": {},
   "source": [
    "## 프로그래밍 연습"
   ]
  },
  {
   "cell_type": "markdown",
   "id": "769c1311",
   "metadata": {},
   "source": [
    "<div class=\"alert alert-block alert-warning\">\n",
    "<strong><font color=\"blue\" size=\"4em\">프로그래밍 연습</font></strong><br>\n",
    "다음 함수를 재귀 함수를 활용해서 완성해서 1부터 num까지의 곱이 출력되게 만드세요\n",
    "</div>\n",
    "<pre>\n",
    "def muliple(data):\n",
    "    if data <= 1:\n",
    "        return data\n",
    "    \n",
    "    return -------------------------\n",
    "    \n",
    "multiple(10)\n",
    "</pre>\n",
    "</div>"
   ]
  },
  {
   "cell_type": "code",
   "execution_count": 5,
   "id": "5b73fbe5",
   "metadata": {},
   "outputs": [],
   "source": [
    "def multiple(num):\n",
    "    if num<=1:\n",
    "        return num\n",
    "    return num*multiple(num-1)"
   ]
  },
  {
   "cell_type": "code",
   "execution_count": 6,
   "id": "77d79f1b",
   "metadata": {},
   "outputs": [
    {
     "data": {
      "text/plain": [
       "3628800"
      ]
     },
     "execution_count": 6,
     "metadata": {},
     "output_type": "execute_result"
    }
   ],
   "source": [
    "multiple(10)"
   ]
  },
  {
   "cell_type": "markdown",
   "id": "d8af36bd",
   "metadata": {},
   "source": [
    "<div class=\"alert alert-block alert-warning\">\n",
    "<strong><font color=\"blue\" size=\"4em\">프로그래밍 연습</font></strong><br>\n",
    "숫자가 들어 있는 리스트가 주어졌을 때, 리스트의 합을 리턴하는 함수를 만드세요\n",
    "</div>\n",
    "<pre>\n",
    "참고: 임의 값으로 리스트 만들기 random.sample(0 ~ 99까지 중에서, 임의로 10개를 만들어서 10개 값을 가지는 리스트 변수 만들기\n",
    "import random \n",
    "data = random.sample(range(100), 10)\n",
    "</pre>"
   ]
  },
  {
   "cell_type": "code",
   "execution_count": 7,
   "id": "a72074f0",
   "metadata": {},
   "outputs": [],
   "source": [
    "import random\n",
    "data=random.sample(range(100),10)"
   ]
  },
  {
   "cell_type": "code",
   "execution_count": 8,
   "id": "50fe217d",
   "metadata": {},
   "outputs": [],
   "source": [
    "def sum_list(data):\n",
    "    if len(data)<=1:\n",
    "        return data[0]\n",
    "    return data[0]+sum_list(data[1:])"
   ]
  },
  {
   "cell_type": "code",
   "execution_count": 9,
   "id": "dda79a8e",
   "metadata": {},
   "outputs": [
    {
     "name": "stdout",
     "output_type": "stream",
     "text": [
      "[84, 88, 8, 93, 11, 47, 79, 59, 25, 29]\n"
     ]
    },
    {
     "data": {
      "text/plain": [
       "523"
      ]
     },
     "execution_count": 9,
     "metadata": {},
     "output_type": "execute_result"
    }
   ],
   "source": [
    "print(data)\n",
    "sum_list(data)"
   ]
  },
  {
   "cell_type": "markdown",
   "id": "5413ff1b",
   "metadata": {},
   "source": [
    "<div class=\"alert alert-block alert-warning\">\n",
    "<strong><font color=\"blue\" size=\"4em\">프로그래밍 연습</font></strong><br>\n",
    "회문(palindrome)은 순서를 거꾸로 읽어도 제대로 읽은 것과 같은 단어와 문장을 의미함<br>\n",
    "회문을 판별할 수 있는 함수를 리스트 슬라이싱을 활용해서 만드세요\n",
    "<img src=\"https://www.fun-coding.org/00_Images/palindrome.png\" width=200/>\n",
    "</div>"
   ]
  },
  {
   "cell_type": "code",
   "execution_count": 10,
   "id": "281b7505",
   "metadata": {},
   "outputs": [],
   "source": [
    "def palindrome(string):\n",
    "    if len(string)<=1:\n",
    "        return True\n",
    "    \n",
    "    if string[0]==string[-1]:\n",
    "        return palindrome(string[1:-1])\n",
    "    else:\n",
    "        return False"
   ]
  },
  {
   "cell_type": "code",
   "execution_count": 11,
   "id": "c1c4b88f",
   "metadata": {},
   "outputs": [
    {
     "data": {
      "text/plain": [
       "False"
      ]
     },
     "execution_count": 11,
     "metadata": {},
     "output_type": "execute_result"
    }
   ],
   "source": [
    "string='abcbadd'\n",
    "palindrome(string)"
   ]
  },
  {
   "cell_type": "markdown",
   "id": "8f8f40ea",
   "metadata": {},
   "source": [
    "<div class=\"alert alert-block alert-warning\">\n",
    "<strong><font color=\"blue\" size=\"4em\">프로그래밍 연습</font></strong><br>\n",
    "1, 정수 n에 대해<br>\n",
    "2. n이 홀수이면 3 X n + 1 을 하고,<br>\n",
    "3. n이 짝수이면 n 을 2로 나눕니다.<br>\n",
    "4. 이렇게 계속 진행해서 n 이 결국 1이 될 때까지 2와 3의 과정을 반복합니다.<br>\n",
    "</div>"
   ]
  },
  {
   "cell_type": "code",
   "execution_count": 12,
   "id": "364c358c",
   "metadata": {},
   "outputs": [],
   "source": [
    "def function(n):\n",
    "    print(n)\n",
    "    if n==1:\n",
    "        return n\n",
    "    if n%2==1:\n",
    "        return function(3*n+1)\n",
    "    else:\n",
    "        return function(int(n/2))"
   ]
  },
  {
   "cell_type": "code",
   "execution_count": 13,
   "id": "c4f65b73",
   "metadata": {},
   "outputs": [
    {
     "name": "stdout",
     "output_type": "stream",
     "text": [
      "3\n",
      "10\n",
      "5\n",
      "16\n",
      "8\n",
      "4\n",
      "2\n",
      "1\n"
     ]
    },
    {
     "data": {
      "text/plain": [
       "1"
      ]
     },
     "execution_count": 13,
     "metadata": {},
     "output_type": "execute_result"
    }
   ],
   "source": [
    "function(3)"
   ]
  }
 ],
 "metadata": {
  "kernelspec": {
   "display_name": "Python 3 (ipykernel)",
   "language": "python",
   "name": "python3"
  },
  "language_info": {
   "codemirror_mode": {
    "name": "ipython",
    "version": 3
   },
   "file_extension": ".py",
   "mimetype": "text/x-python",
   "name": "python",
   "nbconvert_exporter": "python",
   "pygments_lexer": "ipython3",
   "version": "3.7.0"
  }
 },
 "nbformat": 4,
 "nbformat_minor": 5
}
