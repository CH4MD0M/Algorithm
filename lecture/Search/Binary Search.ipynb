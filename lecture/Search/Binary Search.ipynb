{
 "cells": [
  {
   "cell_type": "markdown",
   "id": "f1460f5a",
   "metadata": {},
   "source": [
    "# 이진 탐색(Binary Search)\n",
    "탐색할 자료를 둘로 나누어 해당 데이터가 있을만한 곳을 탐색하는 방법이다. </br>\n",
    "이진 검색은 원소가 오름차순이나 내림차순으로 **정렬된 배열**에서 좀 더 효율적으로 검색할 수 있는 알고리즘이다."
   ]
  },
  {
   "cell_type": "markdown",
   "id": "3d6585cd",
   "metadata": {},
   "source": [
    "---"
   ]
  },
  {
   "cell_type": "markdown",
   "id": "1690c6d4",
   "metadata": {},
   "source": [
    "## 알고리즘 이해\n",
    "\n",
    "### 이진 탐색(Binary Search)\n",
    "- **Divide:** 리스트를 두 개의 섭트 리스트로 나눈다.\n",
    "- **Conquer:** 검색할 숫자 (search) > 중간값 이면, 뒷 부분의 서브 리스트에서 검색할 숫자를 찾고, 검색할 숫자 (search) < 중간값 이면, 앞 부분의 서브 리스트에서 검색할 숫자를 찾는다.  "
   ]
  },
  {
   "cell_type": "markdown",
   "id": "2bdc71b9",
   "metadata": {},
   "source": [
    "---"
   ]
  },
  {
   "cell_type": "markdown",
   "id": "f7e65963",
   "metadata": {},
   "source": [
    "## 알고리즘 구현-재귀"
   ]
  },
  {
   "cell_type": "code",
   "execution_count": 1,
   "id": "7d8ba6a0",
   "metadata": {},
   "outputs": [],
   "source": [
    "def binary_search_rec(start,end,data_list,search_data):\n",
    "    if start>end:\n",
    "        return False\n",
    "    \n",
    "    mid=(start+end)//2\n",
    "    \n",
    "    if search_data == data_list[mid]:\n",
    "        return True\n",
    "\n",
    "    elif search_data>data_list[mid]:\n",
    "        return binary_search_rec(mid+1, end, data_list, search_data)\n",
    "    else:\n",
    "        return binary_search_rec(start, mid-1, data_list, search_data)"
   ]
  },
  {
   "cell_type": "code",
   "execution_count": 2,
   "id": "04eda730",
   "metadata": {},
   "outputs": [
    {
     "name": "stdout",
     "output_type": "stream",
     "text": [
      "[18, 79, 52, 74, 8, 22, 50, 89, 93, 88]\n"
     ]
    }
   ],
   "source": [
    "import random\n",
    "data_list=random.sample(range(100),10)\n",
    "print(data_list)"
   ]
  },
  {
   "cell_type": "code",
   "execution_count": 3,
   "id": "0ffa3c47",
   "metadata": {},
   "outputs": [
    {
     "data": {
      "text/plain": [
       "False"
      ]
     },
     "execution_count": 3,
     "metadata": {},
     "output_type": "execute_result"
    }
   ],
   "source": [
    "start=0\n",
    "end=len(data_list)-1\n",
    "data_list.sort()\n",
    "\n",
    "binary_search_rec(start,end,data_list,65)"
   ]
  },
  {
   "cell_type": "markdown",
   "id": "5aff5b8a",
   "metadata": {},
   "source": [
    "## 알고리즘 구현"
   ]
  },
  {
   "cell_type": "code",
   "execution_count": 4,
   "id": "0b08b36d",
   "metadata": {},
   "outputs": [],
   "source": [
    "def binary_search(data_list,search_data):\n",
    "    data_list.sort()\n",
    "    start=0\n",
    "    end=len(data_list)-1\n",
    "    \n",
    "    while start<=end:\n",
    "        mid=(start+end)//2\n",
    "        \n",
    "        if data_list[mid]==search_data:\n",
    "            return True\n",
    "        elif data_list[mid]<search_data:\n",
    "            start=mid+1\n",
    "        else:\n",
    "            end=mid-1\n",
    "            \n",
    "    return False"
   ]
  },
  {
   "cell_type": "code",
   "execution_count": 5,
   "id": "423dafa8",
   "metadata": {},
   "outputs": [
    {
     "name": "stdout",
     "output_type": "stream",
     "text": [
      "[28, 90, 91, 63, 13, 19, 18, 36, 75, 1]\n"
     ]
    }
   ],
   "source": [
    "import random\n",
    "data_list=random.sample(range(100),10)\n",
    "print(data_list)"
   ]
  },
  {
   "cell_type": "code",
   "execution_count": 6,
   "id": "d31daad4",
   "metadata": {},
   "outputs": [
    {
     "data": {
      "text/plain": [
       "False"
      ]
     },
     "execution_count": 6,
     "metadata": {},
     "output_type": "execute_result"
    }
   ],
   "source": [
    "binary_search(data_list,23)"
   ]
  },
  {
   "cell_type": "markdown",
   "id": "ee9d95c9",
   "metadata": {},
   "source": [
    "---"
   ]
  },
  {
   "cell_type": "markdown",
   "id": "c2003984",
   "metadata": {},
   "source": [
    "## 알고리즘 분석"
   ]
  }
 ],
 "metadata": {
  "kernelspec": {
   "display_name": "Python 3 (ipykernel)",
   "language": "python",
   "name": "python3"
  },
  "language_info": {
   "codemirror_mode": {
    "name": "ipython",
    "version": 3
   },
   "file_extension": ".py",
   "mimetype": "text/x-python",
   "name": "python",
   "nbconvert_exporter": "python",
   "pygments_lexer": "ipython3",
   "version": "3.7.0"
  }
 },
 "nbformat": 4,
 "nbformat_minor": 5
}
