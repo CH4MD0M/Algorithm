{
 "cells": [
  {
   "cell_type": "markdown",
   "id": "f1460f5a",
   "metadata": {},
   "source": [
    "# 이진 탐색(Binary Search)\n",
    "탐색할 자료를 둘로 나누어 해당 데이터가 있을만한 곳을 탐색하는 방법이다. </br>\n",
    "이진 검색은 원소가 오름차순이나 내림차순으로 **정렬된 배열**에서 좀 더 효율적으로 검색할 수 있는 알고리즘이다."
   ]
  },
  {
   "cell_type": "markdown",
   "id": "3d6585cd",
   "metadata": {},
   "source": [
    "---"
   ]
  },
  {
   "cell_type": "markdown",
   "id": "1690c6d4",
   "metadata": {},
   "source": [
    "## 알고리즘 이해\n",
    "\n",
    "### 이진 탐색(Binary Search)\n",
    "- **Divide:** 리스트를 두 개의 섭트 리스트로 나눈다.\n",
    "- **Conquer:** 검색할 숫자 (search) > 중간값 이면, 뒷 부분의 서브 리스트에서 검색할 숫자를 찾고, 검색할 숫자 (search) < 중간값 이면, 앞 부분의 서브 리스트에서 검색할 숫자를 찾는다.  "
   ]
  },
  {
   "cell_type": "markdown",
   "id": "2bdc71b9",
   "metadata": {},
   "source": [
    "---"
   ]
  },
  {
   "cell_type": "markdown",
   "id": "f7e65963",
   "metadata": {},
   "source": [
    "## 알고리즘 구현 - 재귀로 구현"
   ]
  },
  {
   "cell_type": "code",
   "execution_count": 1,
   "id": "7d8ba6a0",
   "metadata": {},
   "outputs": [],
   "source": [
    "def binary_search(start, end, data, target):\n",
    "    if start > end:\n",
    "        return None\n",
    "    \n",
    "    mid = (start + end) // 2\n",
    "    \n",
    "    if data[mid] == target:\n",
    "        return mid\n",
    "\n",
    "    elif data[mid] < target:\n",
    "        return binary_search(mid + 1, end, data, target)\n",
    "    else:\n",
    "        return binary_search(start, mid - 1, data, target)"
   ]
  },
  {
   "cell_type": "code",
   "execution_count": 2,
   "id": "23f265f0",
   "metadata": {},
   "outputs": [
    {
     "name": "stdout",
     "output_type": "stream",
     "text": [
      "10 7\n",
      "1 3 5 7 9 11 13 15 17 19\n",
      "4\n"
     ]
    }
   ],
   "source": [
    "n, target = list(map(int, input().split()))\n",
    "data = list(map(int, input().split()))\n",
    "\n",
    "result = binary_search(0, n - 1, data, target)\n",
    "\n",
    "if result == None:\n",
    "    print(\"원소가 존재하지 않습니다.\")\n",
    "else:\n",
    "    print(result + 1)"
   ]
  },
  {
   "cell_type": "markdown",
   "id": "5aff5b8a",
   "metadata": {},
   "source": [
    "## 알고리즘 구현 - 반복문으로 구현"
   ]
  },
  {
   "cell_type": "code",
   "execution_count": 3,
   "id": "0b08b36d",
   "metadata": {},
   "outputs": [],
   "source": [
    "def binary_search(start, end, data, target):\n",
    "    while start <= end:\n",
    "        mid = (start + end) // 2\n",
    "        \n",
    "        if data[mid] == target:\n",
    "            return mid\n",
    "        elif data[mid] < target:\n",
    "            start = mid+1\n",
    "        else:\n",
    "            end = mid-1\n",
    "            \n",
    "    return None"
   ]
  },
  {
   "cell_type": "code",
   "execution_count": 4,
   "id": "423dafa8",
   "metadata": {},
   "outputs": [
    {
     "name": "stdout",
     "output_type": "stream",
     "text": [
      "10 7\n",
      "1 3 5 7 9 11 13 15 17 19\n",
      "4\n"
     ]
    }
   ],
   "source": [
    "n, target = list(map(int, input().split()))\n",
    "data = list(map(int, input().split()))\n",
    "\n",
    "result = binary_search(0, n - 1, data, target)\n",
    "\n",
    "if result == None:\n",
    "    print(\"원소가 존재하지 않습니다.\")\n",
    "else:\n",
    "    print(result + 1)"
   ]
  }
 ],
 "metadata": {
  "kernelspec": {
   "display_name": "Python 3 (ipykernel)",
   "language": "python",
   "name": "python3"
  },
  "language_info": {
   "codemirror_mode": {
    "name": "ipython",
    "version": 3
   },
   "file_extension": ".py",
   "mimetype": "text/x-python",
   "name": "python",
   "nbconvert_exporter": "python",
   "pygments_lexer": "ipython3",
   "version": "3.7.0"
  }
 },
 "nbformat": 4,
 "nbformat_minor": 5
}
