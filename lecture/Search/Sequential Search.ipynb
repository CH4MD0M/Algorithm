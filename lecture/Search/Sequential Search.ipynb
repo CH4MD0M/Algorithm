{
 "cells": [
  {
   "cell_type": "markdown",
   "id": "ce2189ef",
   "metadata": {},
   "source": [
    "# 순차 탐색(Sequential Search)\n",
    "데이터가 담여있는 리스트를 앞에서부터 하나씩 비교해서 데이터를 찾는 방법이다."
   ]
  },
  {
   "cell_type": "markdown",
   "id": "74b7bf44",
   "metadata": {},
   "source": [
    "<div class=\"alert alert-block alert-warning\">\n",
    "<strong><font color=\"blue\" size=\"4em\">프로그래밍 연습</font></strong><br>\n",
    "임의 리스트가 다음과 같이 rand_data_list로 있을 때, 원하는 데이터의 위치를 리턴하는 순차탐색 알고리즘 작성해보기<br>\n",
    "- 가장 기본적인 방법이므로, 직접 작성해보겠습니다.\n",
    "- 원하는 데이터가 리스트에 없을 경우 -1을 리턴\n",
    "</div>\n",
    "<pre>\n",
    "# 데이터 준비: data_list 10개 만들기\n",
    "from random import *\n",
    " \n",
    "rand_data_list = list()\n",
    "for num in range(10):\n",
    "    rand_data_list.append(randint(1, 100))\n",
    "</pre>"
   ]
  },
  {
   "cell_type": "code",
   "execution_count": 1,
   "id": "ff3f86af",
   "metadata": {},
   "outputs": [],
   "source": [
    "import random\n",
    "data_list=list(random.sample(range(100),10))"
   ]
  },
  {
   "cell_type": "code",
   "execution_count": 2,
   "id": "a2a5c2f1",
   "metadata": {},
   "outputs": [
    {
     "data": {
      "text/plain": [
       "[0, 24, 10, 77, 54, 6, 41, 30, 17, 2]"
      ]
     },
     "execution_count": 2,
     "metadata": {},
     "output_type": "execute_result"
    }
   ],
   "source": [
    "data_list"
   ]
  },
  {
   "cell_type": "code",
   "execution_count": 3,
   "id": "5ed92885",
   "metadata": {},
   "outputs": [],
   "source": [
    "def sequential_search(data_list,search_data):\n",
    "    for i in range(len(data_list)):\n",
    "        if data_list[i]==search_data:\n",
    "            return i\n",
    "    return -1"
   ]
  },
  {
   "cell_type": "code",
   "execution_count": 4,
   "id": "1c981a69",
   "metadata": {},
   "outputs": [
    {
     "data": {
      "text/plain": [
       "2"
      ]
     },
     "execution_count": 4,
     "metadata": {},
     "output_type": "execute_result"
    }
   ],
   "source": [
    "sequential_search(data_list,10)"
   ]
  },
  {
   "cell_type": "markdown",
   "id": "27e8c828",
   "metadata": {},
   "source": [
    "---"
   ]
  },
  {
   "cell_type": "markdown",
   "id": "4d5158d9",
   "metadata": {},
   "source": [
    "## 알고리즘 분석\n",
    "* 최악의 경우 리스트 길이가 n일 때, n번 비교해야 하므로, $O(n)$"
   ]
  }
 ],
 "metadata": {
  "kernelspec": {
   "display_name": "Python 3 (ipykernel)",
   "language": "python",
   "name": "python3"
  },
  "language_info": {
   "codemirror_mode": {
    "name": "ipython",
    "version": 3
   },
   "file_extension": ".py",
   "mimetype": "text/x-python",
   "name": "python",
   "nbconvert_exporter": "python",
   "pygments_lexer": "ipython3",
   "version": "3.7.0"
  }
 },
 "nbformat": 4,
 "nbformat_minor": 5
}
