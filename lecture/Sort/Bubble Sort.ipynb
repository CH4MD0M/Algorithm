{
 "cells": [
  {
   "cell_type": "markdown",
   "id": "cb7de32b",
   "metadata": {},
   "source": [
    "# 버블 정렬(Bubble Sort)\n",
    "- 오름차순의 정렬 시\n",
    "\n",
    "두 인접한 데이터를 비교해서 앞에 있는 데이터가 뒤에 있는 데이터 보다 크면 자리를 바꾸는 정렬 알고리즘이다."
   ]
  },
  {
   "cell_type": "markdown",
   "id": "9e1c0ac7",
   "metadata": {},
   "source": [
    "## 알고리즘 구현"
   ]
  },
  {
   "cell_type": "code",
   "execution_count": 1,
   "id": "8ea72aa0",
   "metadata": {},
   "outputs": [],
   "source": [
    "def bubble_sort(data):\n",
    "    #swap=False\n",
    "    for i in range(len(data)-1):\n",
    "        for j in range(len(data)-i-1):\n",
    "            if data[j]>data[j+1]:\n",
    "                data[j],data[j+1]=data[j+1],data[j]\n",
    "                #swap=True\n",
    "        #if swap==False:\n",
    "        #    break\n",
    "    return data"
   ]
  },
  {
   "cell_type": "code",
   "execution_count": 2,
   "id": "6954302b",
   "metadata": {},
   "outputs": [
    {
     "data": {
      "text/plain": [
       "[2, 3, 4, 5, 8, 9, 10]"
      ]
     },
     "execution_count": 2,
     "metadata": {},
     "output_type": "execute_result"
    }
   ],
   "source": [
    "bubble_sort([5,4,8,9,10,3,2])"
   ]
  },
  {
   "cell_type": "code",
   "execution_count": 3,
   "id": "545686ca",
   "metadata": {},
   "outputs": [
    {
     "name": "stdout",
     "output_type": "stream",
     "text": [
      "[0, 1, 2, 3, 5, 6, 8, 11, 13, 14, 15, 18, 19, 22, 24, 25, 28, 29, 32, 33, 35, 36, 38, 39, 42, 43, 45, 46, 48, 49, 50, 56, 57, 59, 60, 62, 65, 73, 79, 80, 82, 84, 85, 89, 91, 94, 95, 97, 98, 99]\n"
     ]
    }
   ],
   "source": [
    "import random\n",
    "data_list=random.sample(range(100),50)\n",
    "print(bubble_sort(data_list))"
   ]
  },
  {
   "cell_type": "markdown",
   "id": "446ce1c4",
   "metadata": {},
   "source": [
    "## 알고리즘 분석\n",
    "**장점:** 코드가 직관적이고, 구현하기 쉽다.</br>\n",
    "**단점:** 최선이든 최악이든 $ O(n^2) $이라는 시간복잡도를 가진다. 원소의 개수가 많아지면 비교 횟수가 많아져 성능이 저하된다.\n",
    "\n",
    "\n",
    "\n",
    "|    최악     |     평균    |    최선     |\n",
    "|:----------:|:----------:|:----------:|\n",
    "| $ O(n^2) $ | $ O(n^2) $ | $ O(n^2) $ |\n"
   ]
  }
 ],
 "metadata": {
  "kernelspec": {
   "display_name": "Python 3 (ipykernel)",
   "language": "python",
   "name": "python3"
  },
  "language_info": {
   "codemirror_mode": {
    "name": "ipython",
    "version": 3
   },
   "file_extension": ".py",
   "mimetype": "text/x-python",
   "name": "python",
   "nbconvert_exporter": "python",
   "pygments_lexer": "ipython3",
   "version": "3.7.0"
  }
 },
 "nbformat": 4,
 "nbformat_minor": 5
}
