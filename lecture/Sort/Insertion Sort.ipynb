{
 "cells": [
  {
   "cell_type": "markdown",
   "id": "f362b3f8",
   "metadata": {},
   "source": [
    "# 삽입 정렬(Insertion Sort)\n",
    "- 오름차순 정렬 시\n",
    "\n",
    "**두 번째 인덱스 부터 시작**하여 그 앞의 자료들과 크기를 비교하여 삽입할 위치를 지정한 후 자료를 뒤로 옮기고 지정한 자리에 자료를 삽입하여 정렬하는 알고리즘이다.\n"
   ]
  },
  {
   "cell_type": "markdown",
   "id": "c62f26a7",
   "metadata": {},
   "source": [
    "---"
   ]
  },
  {
   "cell_type": "markdown",
   "id": "69510452",
   "metadata": {},
   "source": [
    "## 알고리즘 구현"
   ]
  },
  {
   "cell_type": "code",
   "execution_count": 1,
   "id": "14211405",
   "metadata": {},
   "outputs": [],
   "source": [
    "def insertion_sort(data):\n",
    "    for i in range(len(data)):\n",
    "        for j in range(i, 0, -1):\n",
    "            if data[j] < data[j - 1]:\n",
    "                data[j], data[j - 1] = data[j - 1], data[j]\n",
    "            else:\n",
    "                break\n",
    "    return data"
   ]
  },
  {
   "cell_type": "code",
   "execution_count": 2,
   "id": "36dfa080",
   "metadata": {},
   "outputs": [
    {
     "name": "stdout",
     "output_type": "stream",
     "text": [
      "[1, 4, 16, 18, 19, 24, 33, 34, 37, 41]\n"
     ]
    }
   ],
   "source": [
    "import random\n",
    "data_list = random.sample(range(50), 10)\n",
    "print(insertion_sort(data_list))"
   ]
  },
  {
   "cell_type": "markdown",
   "id": "ef83fa82",
   "metadata": {},
   "source": [
    "---"
   ]
  },
  {
   "cell_type": "markdown",
   "id": "77f393a3",
   "metadata": {},
   "source": [
    "## 알고리즘 분석\n",
    "**장점:** 최선의 경우 $ O(n) $으로 빠른 편이다. </br>\n",
    "**단점:** 최악의 경우 $ O(n^2) $으로, 데이터의 생태에 따라서 성능 차이가 심하다.\n",
    "\n",
    "\n",
    "|    최악     |     평균    |    최선     |\n",
    "|:----------:|:----------:|:----------:|\n",
    "| $ O(n^2) $ | $ O(n^2) $ | $ O(n) $ |\n"
   ]
  }
 ],
 "metadata": {
  "kernelspec": {
   "display_name": "Python 3 (ipykernel)",
   "language": "python",
   "name": "python3"
  },
  "language_info": {
   "codemirror_mode": {
    "name": "ipython",
    "version": 3
   },
   "file_extension": ".py",
   "mimetype": "text/x-python",
   "name": "python",
   "nbconvert_exporter": "python",
   "pygments_lexer": "ipython3",
   "version": "3.7.0"
  }
 },
 "nbformat": 4,
 "nbformat_minor": 5
}
