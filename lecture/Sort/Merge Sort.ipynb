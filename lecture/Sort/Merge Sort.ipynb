{
 "cells": [
  {
   "cell_type": "markdown",
   "id": "f0237a93",
   "metadata": {},
   "source": [
    "# 병합 정렬(Merge Sort)\n",
    "배열을 앞부분과 뒷부분의 두 그룹으로 나누어 각각 정렬한 후 병합하는 작업을 반복하는 알고리즘이다.</br>\n",
    "퀵 정렬과 비슷하게 원본 배열을 반씩 분할해가면서 정렬하는 방법이다. 하지만, pivot을 설정하는 과정 없이 무조건 절반으로 분할하기 때문에 pivot에 따라 성능이 좌우되지는 않는다.\n",
    "1. 리스트를 절반으로 나눠서 비슷한 크기의 두 부분 리스트로 나눈다.\n",
    "2. 각 부분 리스트를 재귀적으로 정렬한다.\n",
    "3. 두 부분 리스트를 다시 하나의 정렬된 리스트로 합병한다."
   ]
  },
  {
   "cell_type": "markdown",
   "id": "180cb95d",
   "metadata": {},
   "source": [
    "---"
   ]
  },
  {
   "cell_type": "markdown",
   "id": "886c9b61",
   "metadata": {},
   "source": [
    "## 알고리즘 구현"
   ]
  },
  {
   "cell_type": "markdown",
   "id": "e72ac0ca",
   "metadata": {},
   "source": [
    "<div class=\"alert alert-block alert-warning\">\n",
    "<strong><font color=\"blue\" size=\"4em\">프로그래밍 연습</font></strong><br>\n",
    "</div>\n",
    "<pre>\n",
    "다음 문장을 코드로 작성해보기 (merge함수는 아직은 없는 상태, 있다고만 가정)\n",
    "* mergesplit 함수 만들기\n",
    "  - 만약 리스트 갯수가 한개이면 해당 값 리턴\n",
    "  - 그렇지 않으면, 리스트를 앞뒤, 두 개로 나누기\n",
    "  - left = mergesplit(앞)\n",
    "  - right = mergesplit(뒤)\n",
    "  - merge(left, right)\n",
    "</pre>"
   ]
  },
  {
   "cell_type": "code",
   "execution_count": 1,
   "id": "678605ad",
   "metadata": {},
   "outputs": [],
   "source": [
    "def mergesplit(data):\n",
    "    if len(data)<=1:\n",
    "        return data\n",
    "    \n",
    "    medium=int(len(data)/2)\n",
    "    \n",
    "    left=mergesplit(data[:medium])\n",
    "    right=mergesplit(data[medium:])\n",
    "    \n",
    "    return merge(left,right)"
   ]
  },
  {
   "cell_type": "markdown",
   "id": "bf3d8b47",
   "metadata": {},
   "source": [
    "<div class=\"alert alert-block alert-warning\">\n",
    "<strong><font color=\"blue\" size=\"4em\">프로그래밍 연습</font></strong><br>\n",
    "</div>\n",
    "<pre>\n",
    "다음 문장을 코드로 작성해보기 (merge함수는 아직은 없는 상태, 있다고만 가정)\n",
    "* merge 함수 만들기\n",
    "</pre>"
   ]
  },
  {
   "cell_type": "code",
   "execution_count": 2,
   "id": "3b8f363c",
   "metadata": {},
   "outputs": [],
   "source": [
    "def merge(left,right):\n",
    "    merge_list=list()\n",
    "    l_index,r_index=0,0\n",
    "    \n",
    "    # Case 1: Left/Right 둘 다 있을 떄\n",
    "    while len(left)>l_index and len(right)>r_index:\n",
    "        if left[l_index]>right[r_index]:\n",
    "            merge_list.append(right[r_index])\n",
    "            r_index+=1\n",
    "        else:\n",
    "            merge_list.append(left[l_index])\n",
    "            l_index+=1\n",
    "    \n",
    "    # Cse 2: Left 데이터가 없을 때\n",
    "    while len(right)>r_index:\n",
    "        merge_list.append(right[r_index])\n",
    "        r_index+=1\n",
    "    \n",
    "    # Cse 3: Right 데이터가 없을 때\n",
    "    while len(left)>l_index:\n",
    "        merge_list.append(left[l_index])\n",
    "        l_index+=1\n",
    "    \n",
    "    return merge_list"
   ]
  },
  {
   "cell_type": "markdown",
   "id": "379f4052",
   "metadata": {},
   "source": [
    "## 최종코드"
   ]
  },
  {
   "cell_type": "code",
   "execution_count": 3,
   "id": "e9cd8bc2",
   "metadata": {},
   "outputs": [],
   "source": [
    "def merge(left,right):\n",
    "    merge_list=list()\n",
    "    right_index,left_index=0,0\n",
    "    \n",
    "    while len(left)>left_index and len(right)>right_index:\n",
    "        if left[left_index]>right[right_index]:\n",
    "            merge_list.append(right[right_index])\n",
    "            right_index+=1\n",
    "        else:\n",
    "            merge_list.append(left[left_index])\n",
    "            left_index+=1\n",
    "        \n",
    "    while len(left)>left_index:\n",
    "        merge_list.append(left[left_index])\n",
    "        left_index+=1\n",
    "    \n",
    "    while len(right)>right_index:\n",
    "        merge_list.append(right[right_index])\n",
    "        right_index+=1\n",
    "    \n",
    "    return merge_list\n",
    "    \n",
    "def merge_sort(data):\n",
    "    if len(data)<=1:\n",
    "        return data\n",
    "    \n",
    "    medium=int(len(data)/2)\n",
    "    left=merge_sort(data[medium:])\n",
    "    right=merge_sort(data[:medium])\n",
    "    \n",
    "    return merge(left,right)"
   ]
  },
  {
   "cell_type": "code",
   "execution_count": 4,
   "id": "a069e130",
   "metadata": {},
   "outputs": [
    {
     "data": {
      "text/plain": [
       "[6, 12, 21, 22, 25, 31, 38, 60, 93, 99]"
      ]
     },
     "execution_count": 4,
     "metadata": {},
     "output_type": "execute_result"
    }
   ],
   "source": [
    "import random\n",
    "data_list=random.sample(range(100),10)\n",
    "\n",
    "merge_sort(data_list)"
   ]
  },
  {
   "cell_type": "markdown",
   "id": "0db45f40",
   "metadata": {},
   "source": [
    "---"
   ]
  },
  {
   "cell_type": "markdown",
   "id": "9919c216",
   "metadata": {},
   "source": [
    "## 알고리즘 분석\n",
    "**장점:** 퀵소팅과 달리, Pivot을 설정하거나 그런 과정 없이 무조건 절반으로 분할하기 때문에 Pivot에 따라서 성능이 좌우되는 경우가 없다. 따라서 항상 $O(NlogN)$ 이라는 시간복잡도를 갖게된다.</br>\n",
    "**단점:** 병합정렬은 임시배열에 원본을 계속해서 옮기면서 정렬하는 방법이다. 따라서, 추가적인 메모리가 필요하다\n",
    "\n",
    "|    최악     |     평균    |    최선     |\n",
    "|:----------:|:----------:|:----------:|\n",
    "| $ O(nlogn) $ | $ O(nlogn) $ | $ O(nlogn) $ |"
   ]
  }
 ],
 "metadata": {
  "kernelspec": {
   "display_name": "Python 3 (ipykernel)",
   "language": "python",
   "name": "python3"
  },
  "language_info": {
   "codemirror_mode": {
    "name": "ipython",
    "version": 3
   },
   "file_extension": ".py",
   "mimetype": "text/x-python",
   "name": "python",
   "nbconvert_exporter": "python",
   "pygments_lexer": "ipython3",
   "version": "3.7.0"
  }
 },
 "nbformat": 4,
 "nbformat_minor": 5
}
