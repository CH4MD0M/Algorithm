{
 "cells": [
  {
   "cell_type": "markdown",
   "id": "801fa2f9",
   "metadata": {},
   "source": [
    "# 퀵 정렬(Quick Sort)\n",
    "- <font color=\"red\">정렬 알고리즘의 꽃.</font>\n",
    "- 가장 빠른 정렬 알고리즘으로 알려져 있으며 널리 사용된다.\n",
    "\n",
    "1. 기준점(pivot)을 정해서 기준점보다 작은 데이터는 왼쪽(left), 큰 데이터는 오른쪽(right)으로 모으는 함수를 작성한다.\n",
    "2. 각 왼쪽(left), 오른쪽(right)은 재귀용법을 사용해서 다시 동일 함수를 호출하여 위 작업을 반복한다.\n",
    "3. 함수는 왼쪽(left) + 기준점(pivot) + 오른쪽(right)을 리턴한다.\n"
   ]
  },
  {
   "cell_type": "markdown",
   "id": "14d9c18b",
   "metadata": {},
   "source": [
    "---"
   ]
  },
  {
   "cell_type": "markdown",
   "id": "65f813f1",
   "metadata": {},
   "source": [
    "## 알고리즘 이해\n",
    "<div class=\"alert alert-block alert-warning\">\n",
    "<strong><font color=\"blue\" size=\"4em\">프로그래밍 연습</font></strong><br>\n",
    "다음 리스트를 리스트 슬라이싱(예 [:2])을 이용해서 세 개로 짤라서 각 리스트 변수에 넣고 출력해보기<br>\n",
    "</div>\n",
    "<pre>\n",
    "data_list = [1, 2, 3, 4, 5]\n",
    "출력:\n",
    "print (data1)\n",
    "print (data2)\n",
    "print (data3)\n",
    "[1, 2]\n",
    "3\n",
    "[4, 5]\n",
    "</pre>"
   ]
  },
  {
   "cell_type": "code",
   "execution_count": 1,
   "id": "76982e44",
   "metadata": {},
   "outputs": [
    {
     "name": "stdout",
     "output_type": "stream",
     "text": [
      "[1, 2]\n",
      "3\n",
      "[4, 5]\n"
     ]
    }
   ],
   "source": [
    "data_list=[1,2,3,4,5]\n",
    "data1=data_list[:2]\n",
    "data2=data_list[2]\n",
    "data3=data_list[3:]\n",
    "print(data1)\n",
    "print(data2)\n",
    "print(data3)"
   ]
  },
  {
   "cell_type": "markdown",
   "id": "1b8dd9b6",
   "metadata": {},
   "source": [
    "<div class=\"alert alert-block alert-warning\">\n",
    "<strong><font color=\"blue\" size=\"4em\">프로그래밍 연습</font></strong><br>\n",
    "다음 리스트를 맨 앞에 데이터를 기준으로 작은 데이터는 left 변수에, 그렇지 않은 데이터는 right 변수에 넣기<br>\n",
    "</div>\n",
    "<pre>\n",
    "data_list = [4, 1, 2, 5, 7]\n",
    "</pre>"
   ]
  },
  {
   "cell_type": "code",
   "execution_count": 2,
   "id": "268b033a",
   "metadata": {},
   "outputs": [],
   "source": [
    "data_list=[4,1,2,5,7]\n",
    "pivot=data_list[0]\n",
    "left=list()\n",
    "right=list()\n",
    "\n",
    "for i in range(1,len(data_list)):\n",
    "    if data_list[i]<pivot:\n",
    "        left.append(data_list[i])\n",
    "    else:\n",
    "        right.append(data_list[i])"
   ]
  },
  {
   "cell_type": "code",
   "execution_count": 3,
   "id": "4718f104",
   "metadata": {},
   "outputs": [
    {
     "name": "stdout",
     "output_type": "stream",
     "text": [
      "[1, 2]\n",
      "[5, 7]\n"
     ]
    }
   ],
   "source": [
    "print(left)\n",
    "print(right)"
   ]
  },
  {
   "cell_type": "markdown",
   "id": "edecac3d",
   "metadata": {},
   "source": [
    "---"
   ]
  },
  {
   "cell_type": "markdown",
   "id": "443d5ec2",
   "metadata": {},
   "source": [
    "## 알고리즘 구현\n",
    "- 리스트의 길이가 1이면 해당 리스트 리턴.\n",
    "1. 리스트의 맨 앞의 데이터를 기준점(pivot)으로 놓는다.\n",
    "2. pivot과 나머지 데이터를 비교\n",
    "    - pivot보다 작으면 left.append(데이터)\n",
    "    - pivot보다 크면 right.append(데이터)\n",
    "3. return quick_sort(left) + [pivot] + quick_sort(right)"
   ]
  },
  {
   "cell_type": "code",
   "execution_count": 4,
   "id": "8af66adb",
   "metadata": {},
   "outputs": [],
   "source": [
    "def quick_sort(data):\n",
    "    if len(data)<=1:\n",
    "        return data\n",
    "\n",
    "    left,right=list(),list()\n",
    "    pivot=data[0]\n",
    "    \n",
    "    for i in range(1,len(data)):\n",
    "        if data[i]<pivot:\n",
    "            left.append(data[i])\n",
    "        else:\n",
    "            right.append(data[i])\n",
    "            \n",
    "    return quick_sort(left)+[pivot]+quick_sort(right)"
   ]
  },
  {
   "cell_type": "code",
   "execution_count": 5,
   "id": "30ab61c9",
   "metadata": {},
   "outputs": [
    {
     "data": {
      "text/plain": [
       "[3, 13, 16, 21, 29, 34, 39, 44, 53, 78]"
      ]
     },
     "execution_count": 5,
     "metadata": {},
     "output_type": "execute_result"
    }
   ],
   "source": [
    "import random\n",
    "data_list=random.sample(range(100),10)\n",
    "\n",
    "quick_sort(data_list)"
   ]
  },
  {
   "cell_type": "markdown",
   "id": "df4516ea",
   "metadata": {},
   "source": [
    "---"
   ]
  },
  {
   "cell_type": "markdown",
   "id": "e4cabf3b",
   "metadata": {},
   "source": [
    "## List Comprehension 사용"
   ]
  },
  {
   "cell_type": "code",
   "execution_count": 6,
   "id": "6b9d45e1",
   "metadata": {},
   "outputs": [],
   "source": [
    "def quick_sort(data):\n",
    "    if len(data)<=1:\n",
    "        return data\n",
    "\n",
    "    pivot=data[0]\n",
    "    \n",
    "    left=[item for item in data[1:] if pivot>item]\n",
    "    right=[item for item in data[1:] if pivot<item]\n",
    "    \n",
    "    return quick_sort(left)+[pivot]+quick_sort(right)"
   ]
  },
  {
   "cell_type": "code",
   "execution_count": 7,
   "id": "9a242fd7",
   "metadata": {},
   "outputs": [
    {
     "data": {
      "text/plain": [
       "[9, 30, 36, 37, 40, 46, 55, 72, 73, 99]"
      ]
     },
     "execution_count": 7,
     "metadata": {},
     "output_type": "execute_result"
    }
   ],
   "source": [
    "import random\n",
    "data_list=random.sample(range(100),10)\n",
    "\n",
    "quick_sort(data_list)"
   ]
  },
  {
   "cell_type": "markdown",
   "id": "08f92ef9",
   "metadata": {},
   "source": [
    "---"
   ]
  },
  {
   "cell_type": "markdown",
   "id": "00ec5472",
   "metadata": {},
   "source": [
    "## 알고리즘 분석\n",
    "**장점:** 기준 값에 의한 분할을 통해서 구현하는 정렬법으로, 전반적으로 실행시간이 준수한 편이다.</br>\n",
    "**단점:** 기준점(pivot)에 따라 시간복잡도가 크게 달라진다. 처음 pivot 값이 가장 크거나, 가장 작으면 $O(n^2)$이라는 시간 복잡도를 갖게된다.\n",
    "\n",
    "|    최악     |     평균    |    최선     |\n",
    "|:----------:|:----------:|:----------:|\n",
    "| $ O(n^2) $ | $ O(nlogn) $ | $ O(nlogn) $ |\n"
   ]
  }
 ],
 "metadata": {
  "kernelspec": {
   "display_name": "Python 3 (ipykernel)",
   "language": "python",
   "name": "python3"
  },
  "language_info": {
   "codemirror_mode": {
    "name": "ipython",
    "version": 3
   },
   "file_extension": ".py",
   "mimetype": "text/x-python",
   "name": "python",
   "nbconvert_exporter": "python",
   "pygments_lexer": "ipython3",
   "version": "3.7.0"
  }
 },
 "nbformat": 4,
 "nbformat_minor": 5
}
