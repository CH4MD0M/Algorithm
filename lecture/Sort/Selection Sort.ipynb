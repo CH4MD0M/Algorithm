{
 "cells": [
  {
   "cell_type": "markdown",
   "id": "6d8dbffd",
   "metadata": {},
   "source": [
    "# 선택 정렬(Selection Sort)\n",
    "- 오름차순 정렬 시\n",
    "1. 주어진 리스트 중에 최소값을 찾는다.\n",
    "2. 그 값을 맨 앞에 위치한 값과 교체한다.\n",
    "3. 맨 처음 위치를 뺀 나머지 리스트를 같은 방법으로 교체한다.\n"
   ]
  },
  {
   "cell_type": "markdown",
   "id": "9a6bd16f",
   "metadata": {},
   "source": [
    "## 알고리즘 구현"
   ]
  },
  {
   "cell_type": "code",
   "execution_count": 1,
   "id": "4ec9be22",
   "metadata": {},
   "outputs": [],
   "source": [
    "def selection_sort(data):\n",
    "    for i in range(len(data)-1):\n",
    "        lowest=i\n",
    "        for j in range(i+1,len(data)):\n",
    "            if data[lowest]>data[j]:\n",
    "                lowest=j\n",
    "        data[lowest],data[i]=data[i],data[lowest]\n",
    "    return data"
   ]
  },
  {
   "cell_type": "code",
   "execution_count": 2,
   "id": "8d6149ae",
   "metadata": {},
   "outputs": [
    {
     "name": "stdout",
     "output_type": "stream",
     "text": [
      "[0, 2, 8, 10, 11, 13, 15, 18, 19, 20, 21, 22, 25, 26, 29, 31, 35, 37, 38, 40, 41, 43, 44, 46, 47, 50, 51, 52, 54, 55, 56, 58, 61, 62, 63, 66, 70, 71, 73, 75, 79, 80, 82, 85, 87, 89, 92, 95, 97, 98]\n"
     ]
    }
   ],
   "source": [
    "import random\n",
    "data_list=random.sample(range(100),50)\n",
    "print(selection_sort(data_list))"
   ]
  },
  {
   "cell_type": "markdown",
   "id": "c07c4a7e",
   "metadata": {},
   "source": [
    "## 알고리즘 분석\n",
    "**장점:** 구현이 간단하고, 비교하는 횟수에 비해 교환이 적게 일어난다.</br>\n",
    "**단점:** 정렬 시간이 오래 걸린다.\n",
    "\n",
    "|    최악     |     평균    |    최선     |\n",
    "|:----------:|:----------:|:----------:|\n",
    "| $ O(n^2) $ | $ O(n^2) $ | $ O(n^2) $ |\n"
   ]
  }
 ],
 "metadata": {
  "kernelspec": {
   "display_name": "Python 3 (ipykernel)",
   "language": "python",
   "name": "python3"
  },
  "language_info": {
   "codemirror_mode": {
    "name": "ipython",
    "version": 3
   },
   "file_extension": ".py",
   "mimetype": "text/x-python",
   "name": "python",
   "nbconvert_exporter": "python",
   "pygments_lexer": "ipython3",
   "version": "3.7.0"
  }
 },
 "nbformat": 4,
 "nbformat_minor": 5
}
